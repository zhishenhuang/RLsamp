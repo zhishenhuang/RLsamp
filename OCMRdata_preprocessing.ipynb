{
 "cells": [
  {
   "cell_type": "markdown",
   "id": "e2efb434",
   "metadata": {},
   "source": [
    "# data preprocessing"
   ]
  },
  {
   "cell_type": "code",
   "execution_count": null,
   "id": "97b4f1bb",
   "metadata": {},
   "outputs": [],
   "source": [
    "'''\n",
    "[kx, ky, kz, coil, phase, set, slice, rep, avg], \n",
    "frequency encoding, first phase encoding, second phase encoding, \n",
    "coil, phase (time), set (velocity encoding), slice, repetition, and number of averages\n",
    "\n",
    "better not to take average over the repetition dimension\n",
    "'''"
   ]
  },
  {
   "cell_type": "code",
   "execution_count": null,
   "id": "98858d35",
   "metadata": {},
   "outputs": [],
   "source": [
    "import os\n",
    "import read_ocmr as read\n",
    "import matplotlib.pyplot as plt\n",
    "import math\n",
    "## need to install ismrmrd and ismrmrdtools\n",
    "from ismrmrdtools import show, transform\n",
    "\n",
    "import numpy as np\n",
    "import torch"
   ]
  },
  {
   "cell_type": "code",
   "execution_count": null,
   "id": "e220a3fa",
   "metadata": {},
   "outputs": [],
   "source": [
    "datapath = '/mnt/shared_a/OCMR/OCMR_data_fully_sampled/' # change this path to your directory\n",
    "h5files = list([])\n",
    "for file in os.listdir(datapath):\n",
    "    if file.endswith(\".h5\"):\n",
    "        h5files.append(file)\n",
    "print('total amount of files:', len(h5files))"
   ]
  },
  {
   "cell_type": "code",
   "execution_count": null,
   "id": "f8765121",
   "metadata": {
    "scrolled": true
   },
   "outputs": [],
   "source": [
    "regular_files = []\n",
    "for file in h5files:\n",
    "    kData,param = read.read_ocmr(datapath+file)\n",
    "    print('filename', file, 'Dimension of kData: ', kData.shape)\n",
    "    curr_shape = kData.shape\n",
    "    if curr_shape[0]==384 and curr_shape[1]==144:\n",
    "        regular_files.append([file, curr_shape])\n",
    "\n",
    "### save these useful files\n",
    "path = '/home/huangz78/rl_samp/useful_files.npz'  # change this path to your directory\n",
    "np.savez(path,files=regular_files)"
   ]
  },
  {
   "cell_type": "code",
   "execution_count": null,
   "id": "cc5341bc",
   "metadata": {},
   "outputs": [],
   "source": [
    "savepath = '/mnt/shared_a/OCMR/OCMR_fully_sampled_images/' # change this path where you save processed data\n",
    "for fileind in range(len(regular_files)):\n",
    "    filename    = regular_files[fileind][0]\n",
    "    kData,param = read.read_ocmr(datapath+file)\n",
    "    kData_tmp   = np.mean(kData, axis = 8); # average the k-space if average > 1\n",
    "    # Image reconstruction (SoS)\n",
    "    im_coil = transform.transform_kspace_to_image(kData_tmp, [0,1]); # IFFT (2D image)\n",
    "    im_sos  = np.sqrt(np.sum(np.abs(im_coil) ** 2, 3)) # Sum of Square\n",
    "    print('Dimension of Image (with ReadOut ovesampling): ', im_sos.shape)\n",
    "    RO    = im_sos.shape[0]\n",
    "    image = im_sos[math.floor(RO/4):math.floor(RO/4*3),:,:] # Remove RO oversampling\n",
    "    print('Dimension of Image (without ReadOout ovesampling): ', image.shape)\n",
    "    \n",
    "    for sliceind in range(image.shape[5]):\n",
    "        image[:,:,:,:,:,sliceind,:] /= image[:,:,:,:,:,sliceind,:].max() # normalization of the image\n",
    "    \n",
    "    torch.save(torch.tensor(image) , savepath + filename[:-3] + '.pt')\n",
    "    print(f'file {savepath + filename} is successfully saved')"
   ]
  },
  {
   "cell_type": "markdown",
   "id": "eb763066",
   "metadata": {},
   "source": [
    "# view an example file"
   ]
  },
  {
   "cell_type": "code",
   "execution_count": null,
   "id": "d3eaea9f",
   "metadata": {},
   "outputs": [],
   "source": [
    "datapath = '/mnt/shared_a/OCMR/OCMR_fully_sampled_images/' # change as needed\n",
    "file = 'fs_0074_1_5T.pt'  # pick an example file\n",
    "data = torch.load(datapath+file)"
   ]
  },
  {
   "cell_type": "code",
   "execution_count": null,
   "id": "abe30831",
   "metadata": {},
   "outputs": [],
   "source": [
    "# Show the reconstructed cine image\n",
    "from IPython.display import clear_output\n",
    "import time\n",
    "\n",
    "slc_idx = 6 # math.floor(SLC/2)\n",
    "print(slc_idx)\n",
    "for rep in range(5): # repeat the movie for 5 times\n",
    "    for frame in range(data.shape[3]):\n",
    "        clear_output(wait=True)\n",
    "        plt.imshow(data[:,:,0,frame,0,slc_idx,:], vmin=0, vmax=data.max(), cmap = 'gray'); plt.axis('off');\n",
    "        plt.colorbar()\n",
    "        plt.show() \n",
    "        time.sleep(0.03)"
   ]
  },
  {
   "cell_type": "code",
   "execution_count": null,
   "id": "3aeb498a",
   "metadata": {},
   "outputs": [],
   "source": []
  }
 ],
 "metadata": {
  "kernelspec": {
   "display_name": "Python 3 (ipykernel)",
   "language": "python",
   "name": "python3"
  },
  "language_info": {
   "codemirror_mode": {
    "name": "ipython",
    "version": 3
   },
   "file_extension": ".py",
   "mimetype": "text/x-python",
   "name": "python",
   "nbconvert_exporter": "python",
   "pygments_lexer": "ipython3",
   "version": "3.9.12"
  }
 },
 "nbformat": 4,
 "nbformat_minor": 5
}
