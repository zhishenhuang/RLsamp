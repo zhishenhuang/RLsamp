{
 "cells": [
  {
   "cell_type": "code",
   "execution_count": null,
   "id": "dfc4f5da",
   "metadata": {
    "scrolled": true
   },
   "outputs": [],
   "source": [
    "%%bash\n",
    "if [ $(pip list --disable-pip-version-check | grep -c -w 'ismrmrd ') == 0 ] \n",
    "then \n",
    "    git clone https://github.com/ismrmrd/ismrmrd-python.git /var/tmp/ismrmrd-python\n",
    "    python -m pip install --disable-pip-version-check -r /var/tmp/ismrmrd-python/requirements.txt\n",
    "    python -m pip install --disable-pip-version-check /var/tmp/ismrmrd-python\n",
    "    rm -rf /var/tmp/ismrmrd-python\n",
    "fi\n",
    "pip list --disable-pip-version-check | grep -w 'ismrmrd '"
   ]
  },
  {
   "cell_type": "code",
   "execution_count": null,
   "id": "0b245245",
   "metadata": {},
   "outputs": [],
   "source": [
    "%%bash\n",
    "if [ $(pip list --disable-pip-version-check | grep -c -w 'ismrmrd-python-tools ') == 0 ] \n",
    "then \n",
    "    git clone https://github.com/ismrmrd/ismrmrd-python-tools.git /var/tmp/ismrmrd-python-tools\n",
    "    python -m pip install --disable-pip-version-check /var/tmp/ismrmrd-python-tools\n",
    "    rm -rf /var/tmp/ismrmrd-python-tools\n",
    "fi\n",
    "pip list --disable-pip-version-check | grep -w 'ismrmrd-python-tools '"
   ]
  },
  {
   "cell_type": "markdown",
   "id": "e2efb434",
   "metadata": {},
   "source": [
    "# data preprocessing"
   ]
  },
  {
   "cell_type": "code",
   "execution_count": null,
   "id": "97b4f1bb",
   "metadata": {},
   "outputs": [],
   "source": [
    "'''\n",
    "[kx, ky, kz, coil, phase, set, slice, rep, avg], \n",
    "frequency encoding, first phase encoding, second phase encoding, \n",
    "coil, phase (time), set (velocity encoding), slice, repetition, and number of averages\n",
    "\n",
    "better not to take average over the repetition dimension\n",
    "'''"
   ]
  },
  {
   "cell_type": "code",
   "execution_count": 4,
   "id": "98858d35",
   "metadata": {},
   "outputs": [],
   "source": [
    "import os\n",
    "from RL_samp import read_ocmr as read\n",
    "import matplotlib.pyplot as plt\n",
    "import math\n",
    "## need to install ismrmrd and ismrmrdtools\n",
    "from ismrmrdtools import show, transform\n",
    "from pdb import set_trace as breakpoint\n",
    "import shutil\n",
    "import numpy as np\n",
    "import torch"
   ]
  },
  {
   "cell_type": "code",
   "execution_count": null,
   "id": "e220a3fa",
   "metadata": {},
   "outputs": [],
   "source": [
    "datapath = '/home/ec2-user/SageMaker/data/OCMR_data/' # change this path to your directory\n",
    "h5files = list([])\n",
    "for file in os.listdir(datapath):\n",
    "    if file.endswith(\".h5\"):\n",
    "        h5files.append(file)\n",
    "print('total amount of files:', len(h5files))"
   ]
  },
  {
   "cell_type": "code",
   "execution_count": null,
   "id": "f8765121",
   "metadata": {
    "scrolled": true
   },
   "outputs": [],
   "source": [
    "regular_files = []\n",
    "for file in h5files:\n",
    "    kData,param = read.read_ocmr(datapath+file)\n",
    "    print('filename', file, 'Dimension of kData: ', kData.shape)\n",
    "    curr_shape = kData.shape\n",
    "    if curr_shape[0]==384 and curr_shape[1]==144:\n",
    "        regular_files.append([file, curr_shape])\n",
    "\n",
    "### save these useful files\n",
    "path = '/home/ec2-user/SageMaker/RLsamp/useful_files.npz'  # change this path to your directory\n",
    "np.savez(path,files=regular_files)"
   ]
  },
  {
   "cell_type": "code",
   "execution_count": 7,
   "id": "8b83eb10",
   "metadata": {
    "scrolled": true
   },
   "outputs": [
    {
     "name": "stdout",
     "output_type": "stream",
     "text": [
      "[['fs_0024_3T.h5' (384, 144, 1, 38, 22, 1, 1, 1, 1)]\n",
      " ['us_0024_3T.h5' (384, 144, 1, 34, 65, 1, 1, 1, 1)]\n",
      " ['us_0040_3T.h5' (384, 144, 1, 30, 65, 1, 1, 1, 1)]\n",
      " ['us_0075_3T.h5' (384, 144, 1, 34, 65, 1, 1, 1, 1)]\n",
      " ['us_0010_3T.h5' (384, 144, 1, 34, 65, 1, 1, 1, 1)]\n",
      " ['us_0006_3T.h5' (384, 144, 1, 30, 65, 1, 1, 1, 1)]\n",
      " ['fs_0033_3T.h5' (384, 144, 1, 34, 18, 1, 1, 1, 2)]\n",
      " ['fs_0074_1_5T.h5' (384, 144, 1, 24, 19, 1, 12, 1, 1)]\n",
      " ['us_0055_3T.h5' (384, 144, 1, 34, 65, 1, 1, 1, 1)]\n",
      " ['fs_0020_3T.h5' (384, 144, 1, 38, 22, 1, 1, 1, 1)]\n",
      " ['us_0025_3T.h5' (384, 144, 1, 34, 65, 1, 1, 1, 1)]\n",
      " ['us_0015_3T.h5' (384, 144, 1, 34, 65, 1, 1, 1, 1)]\n",
      " ['us_0059_3T.h5' (384, 144, 1, 34, 65, 1, 1, 1, 1)]\n",
      " ['us_0068_3T.h5' (384, 144, 1, 34, 65, 1, 1, 1, 1)]\n",
      " ['us_0067_3T.h5' (384, 144, 1, 34, 65, 1, 1, 1, 1)]\n",
      " ['us_0004_3T.h5' (384, 144, 1, 34, 65, 1, 1, 1, 1)]\n",
      " ['fs_0011_1_5T.h5' (384, 144, 1, 18, 22, 1, 1, 1, 1)]\n",
      " ['us_0002_3T.h5' (384, 144, 1, 34, 65, 1, 1, 1, 1)]\n",
      " ['us_0026_3T.h5' (384, 144, 1, 34, 65, 1, 1, 1, 1)]\n",
      " ['fs_0036_3T.h5' (384, 144, 1, 34, 17, 1, 1, 1, 1)]\n",
      " ['us_0005_3T.h5' (384, 144, 1, 34, 65, 1, 1, 1, 1)]\n",
      " ['us_0033_3T.h5' (384, 144, 1, 34, 65, 1, 1, 1, 1)]\n",
      " ['fs_0073_1_5T.h5' (384, 144, 1, 20, 20, 1, 1, 1, 1)]\n",
      " ['us_0036_3T.h5' (384, 144, 1, 34, 65, 1, 1, 1, 1)]\n",
      " ['fs_0060_1_5T.h5' (384, 144, 1, 28, 21, 1, 12, 1, 1)]\n",
      " ['fs_0035_3T.h5' (384, 144, 1, 34, 18, 1, 1, 1, 2)]\n",
      " ['fs_0009_1_5T.h5' (384, 144, 1, 18, 22, 1, 1, 1, 1)]\n",
      " ['us_0001_3T.h5' (384, 144, 1, 34, 65, 1, 1, 1, 1)]\n",
      " ['fs_0072_1_5T.h5' (384, 144, 1, 16, 20, 1, 1, 1, 1)]\n",
      " ['us_0048_3T.h5' (384, 144, 1, 34, 65, 1, 1, 1, 1)]\n",
      " ['us_0020_3T.h5' (384, 144, 1, 34, 65, 1, 1, 1, 1)]\n",
      " ['us_0028_3T.h5' (384, 144, 1, 34, 65, 1, 1, 1, 1)]\n",
      " ['us_0029_3T.h5' (384, 144, 1, 34, 65, 1, 1, 1, 1)]\n",
      " ['us_0043_3T.h5' (384, 144, 1, 34, 65, 1, 1, 1, 1)]\n",
      " ['us_0022_3T.h5' (384, 144, 1, 34, 65, 1, 1, 1, 1)]\n",
      " ['fs_0027_3T.h5' (384, 144, 1, 30, 28, 1, 1, 1, 2)]\n",
      " ['fs_0031_3T.h5' (384, 144, 1, 30, 27, 1, 1, 1, 2)]\n",
      " ['us_0008_3T.h5' (384, 144, 1, 34, 65, 1, 1, 1, 1)]\n",
      " ['us_0085_1_5T.h5' (384, 144, 1, 18, 122, 1, 1, 1, 1)]\n",
      " ['fs_0059_1_5T.h5' (384, 144, 1, 24, 22, 1, 1, 1, 1)]\n",
      " ['us_0056_3T.h5' (384, 144, 1, 34, 65, 1, 1, 1, 1)]\n",
      " ['us_0045_3T.h5' (384, 144, 1, 34, 65, 1, 1, 1, 1)]\n",
      " ['us_0017_3T.h5' (384, 144, 1, 34, 65, 1, 1, 1, 1)]\n",
      " ['us_0030_3T.h5' (384, 144, 1, 34, 65, 1, 1, 1, 1)]\n",
      " ['fs_0038_3T.h5' (384, 144, 1, 20, 16, 1, 1, 1, 2)]\n",
      " ['fs_0025_3T.h5' (384, 144, 1, 30, 27, 1, 1, 1, 2)]\n",
      " ['us_0052_3T.h5' (384, 144, 1, 34, 65, 1, 1, 1, 1)]\n",
      " ['us_0014_3T.h5' (384, 144, 1, 34, 65, 1, 1, 1, 1)]\n",
      " ['fs_0019_3T.h5' (384, 144, 1, 38, 25, 1, 1, 1, 1)]\n",
      " ['us_0076_3T.h5' (384, 144, 1, 26, 65, 1, 1, 1, 1)]\n",
      " ['fs_0044_3T.h5' (384, 144, 1, 30, 26, 1, 1, 1, 1)]\n",
      " ['us_0063_3T.h5' (384, 144, 1, 24, 65, 1, 1, 1, 1)]\n",
      " ['fs_0032_3T.h5' (384, 144, 1, 34, 18, 1, 1, 1, 2)]\n",
      " ['us_0082_1_5T.h5' (384, 144, 1, 18, 122, 1, 1, 1, 1)]\n",
      " ['fs_0046_3T.h5' (384, 144, 1, 30, 25, 1, 1, 1, 1)]\n",
      " ['us_0023_3T.h5' (384, 144, 1, 34, 65, 1, 1, 1, 1)]\n",
      " ['fs_0010_1_5T.h5' (384, 144, 1, 18, 22, 1, 1, 1, 1)]\n",
      " ['fs_0058_1_5T.h5' (384, 144, 1, 24, 22, 1, 1, 1, 1)]\n",
      " ['us_0039_3T.h5' (384, 144, 1, 34, 65, 1, 1, 1, 1)]\n",
      " ['us_0064_3T.h5' (384, 144, 1, 34, 65, 1, 1, 1, 1)]\n",
      " ['fs_0021_3T.h5' (384, 144, 1, 38, 22, 1, 1, 1, 1)]\n",
      " ['fs_0040_3T.h5' (384, 144, 1, 20, 16, 1, 1, 1, 2)]\n",
      " ['us_0071_3T.h5' (384, 144, 1, 34, 65, 1, 1, 1, 1)]\n",
      " ['us_0027_3T.h5' (384, 144, 1, 34, 65, 1, 1, 1, 1)]\n",
      " ['us_0021_3T.h5' (384, 144, 1, 34, 65, 1, 1, 1, 1)]\n",
      " ['us_0077_3T.h5' (384, 144, 1, 34, 65, 1, 1, 1, 1)]\n",
      " ['us_0041_3T.h5' (384, 144, 1, 34, 65, 1, 1, 1, 1)]\n",
      " ['us_0051_3T.h5' (384, 144, 1, 30, 65, 1, 1, 1, 1)]\n",
      " ['fs_0061_1_5T.h5' (384, 144, 1, 16, 22, 1, 1, 1, 1)]\n",
      " ['us_0065_3T.h5' (384, 144, 1, 34, 65, 1, 1, 1, 1)]\n",
      " ['fs_0029_3T.h5' (384, 144, 1, 30, 28, 1, 1, 1, 2)]\n",
      " ['fs_0030_3T.h5' (384, 144, 1, 30, 26, 1, 1, 1, 2)]\n",
      " ['us_0050_3T.h5' (384, 144, 1, 34, 65, 1, 1, 1, 1)]\n",
      " ['fs_0070_1_5T.h5' (384, 144, 1, 20, 25, 1, 1, 1, 1)]\n",
      " ['us_0053_3T.h5' (384, 144, 1, 34, 65, 1, 1, 1, 1)]\n",
      " ['us_0007_3T.h5' (384, 144, 1, 34, 65, 1, 1, 1, 1)]\n",
      " ['fs_0007_1_5T.h5' (384, 144, 1, 18, 23, 1, 1, 1, 1)]\n",
      " ['us_0046_3T.h5' (384, 144, 1, 34, 65, 1, 1, 1, 1)]\n",
      " ['us_0003_3T.h5' (384, 144, 1, 34, 65, 1, 1, 1, 1)]\n",
      " ['fs_0042_3T.h5' (384, 144, 1, 20, 17, 1, 1, 1, 2)]\n",
      " ['us_0047_3T.h5' (384, 144, 1, 34, 65, 1, 1, 1, 1)]\n",
      " ['fs_0067_1_5T.h5' (384, 144, 1, 24, 22, 1, 1, 1, 1)]\n",
      " ['us_0069_3T.h5' (384, 144, 1, 34, 65, 1, 1, 1, 1)]\n",
      " ['us_0061_3T.h5' (384, 144, 1, 34, 65, 1, 1, 1, 1)]\n",
      " ['us_0038_3T.h5' (384, 144, 1, 24, 65, 1, 1, 1, 1)]\n",
      " ['us_0034_3T.h5' (384, 144, 1, 34, 65, 1, 1, 1, 1)]\n",
      " ['fs_0023_3T.h5' (384, 144, 1, 38, 22, 1, 1, 1, 1)]\n",
      " ['us_0072_3T.h5' (384, 144, 1, 34, 65, 1, 1, 1, 1)]\n",
      " ['fs_0028_3T.h5' (384, 144, 1, 30, 28, 1, 1, 1, 2)]\n",
      " ['us_0012_3T.h5' (384, 144, 1, 34, 65, 1, 1, 1, 1)]\n",
      " ['fs_0041_3T.h5' (384, 144, 1, 20, 18, 1, 1, 1, 2)]\n",
      " ['us_0058_3T.h5' (384, 144, 1, 34, 65, 1, 1, 1, 1)]\n",
      " ['us_0011_3T.h5' (384, 144, 1, 30, 65, 1, 1, 1, 1)]\n",
      " ['fs_0034_3T.h5' (384, 144, 1, 34, 18, 1, 1, 1, 2)]\n",
      " ['us_0060_3T.h5' (384, 144, 1, 34, 65, 1, 1, 1, 1)]\n",
      " ['us_0032_3T.h5' (384, 144, 1, 34, 65, 1, 1, 1, 1)]\n",
      " ['fs_0045_3T.h5' (384, 144, 1, 30, 25, 1, 10, 1, 1)]\n",
      " ['us_0074_3T.h5' (384, 144, 1, 34, 65, 1, 1, 1, 1)]\n",
      " ['us_0016_3T.h5' (384, 144, 1, 34, 65, 1, 1, 1, 1)]\n",
      " ['fs_0043_3T.h5' (384, 144, 1, 20, 18, 1, 1, 1, 2)]\n",
      " ['us_0035_3T.h5' (384, 144, 1, 34, 65, 1, 1, 1, 1)]\n",
      " ['us_0037_3T.h5' (384, 144, 1, 34, 65, 1, 1, 1, 1)]\n",
      " ['fs_0037_3T.h5' (384, 144, 1, 34, 22, 1, 1, 1, 2)]\n",
      " ['us_0062_3T.h5' (384, 144, 1, 34, 65, 1, 1, 1, 1)]\n",
      " ['us_0070_3T.h5' (384, 144, 1, 34, 65, 1, 1, 1, 1)]\n",
      " ['fs_0039_3T.h5' (384, 144, 1, 20, 16, 1, 1, 1, 2)]\n",
      " ['us_0009_3T.h5' (384, 144, 1, 34, 65, 1, 1, 1, 1)]\n",
      " ['fs_0026_3T.h5' (384, 144, 1, 30, 27, 1, 1, 1, 2)]\n",
      " ['us_0049_3T.h5' (384, 144, 1, 34, 65, 1, 1, 1, 1)]\n",
      " ['us_0044_3T.h5' (384, 144, 1, 34, 65, 1, 1, 1, 1)]\n",
      " ['fs_0022_3T.h5' (384, 144, 1, 38, 22, 1, 1, 1, 1)]\n",
      " ['us_0066_3T.h5' (384, 144, 1, 34, 65, 1, 1, 1, 1)]\n",
      " ['fs_0069_1_5T.h5' (384, 144, 1, 24, 25, 1, 12, 1, 1)]\n",
      " ['us_0031_3T.h5' (384, 144, 1, 34, 65, 1, 1, 1, 1)]\n",
      " ['us_0054_3T.h5' (384, 144, 1, 34, 65, 1, 1, 1, 1)]\n",
      " ['us_0057_3T.h5' (384, 144, 1, 34, 65, 1, 1, 1, 1)]\n",
      " ['fs_0057_1_5T.h5' (384, 144, 1, 28, 25, 1, 12, 1, 1)]\n",
      " ['us_0073_3T.h5' (384, 144, 1, 34, 65, 1, 1, 1, 1)]\n",
      " ['us_0019_3T.h5' (384, 144, 1, 34, 65, 1, 1, 1, 1)]\n",
      " ['us_0042_3T.h5' (384, 144, 1, 34, 65, 1, 1, 1, 1)]\n",
      " ['us_0013_3T.h5' (384, 144, 1, 34, 65, 1, 1, 1, 1)]\n",
      " ['us_0018_3T.h5' (384, 144, 1, 34, 65, 1, 1, 1, 1)]]\n"
     ]
    }
   ],
   "source": [
    "regular_files = np.load('/home/ec2-user/SageMaker/RLsamp/useful_files.npz',allow_pickle=True)['files']\n",
    "print(regular_files)\n",
    "datapath = '/home/ec2-user/SageMaker/data/OCMR_data/' # change this path to your directory"
   ]
  },
  {
   "cell_type": "code",
   "execution_count": 5,
   "id": "c6b0fd3c",
   "metadata": {},
   "outputs": [
    {
     "name": "stdout",
     "output_type": "stream",
     "text": [
      "~~~ directory /home/ec2-user/SageMaker/data/OCMR_fully_sampled_images/ is created!\n"
     ]
    }
   ],
   "source": [
    "savepath = '/home/ec2-user/SageMaker/data/OCMR_fully_sampled_images/' # change this path where you save processed data\n",
    "if os.path.exists(savepath):\n",
    "    shutil.rmtree(savepath)\n",
    "os.mkdir(savepath)\n",
    "print(f'~~~ directory {savepath} is created!')\n",
    "  "
   ]
  },
  {
   "cell_type": "code",
   "execution_count": null,
   "id": "cc5341bc",
   "metadata": {
    "scrolled": true
   },
   "outputs": [
    {
     "name": "stdout",
     "output_type": "stream",
     "text": [
      "Imaging acquisition starts acq  0\n",
      "Dimension of Image (with ReadOut ovesampling):  (384, 144, 1, 22, 1, 1, 1)\n",
      "Dimension of Image (without ReadOout ovesampling):  (192, 144, 1, 22, 1, 1, 1)\n",
      "file /home/ec2-user/SageMaker/data/OCMR_fully_sampled_images/fs_0024_3T.h5 is successfully saved\n",
      "Imaging acquisition starts acq  32\n",
      "Dimension of Image (with ReadOut ovesampling):  (384, 144, 1, 65, 1, 1, 1)\n",
      "Dimension of Image (without ReadOout ovesampling):  (192, 144, 1, 65, 1, 1, 1)\n",
      "file /home/ec2-user/SageMaker/data/OCMR_fully_sampled_images/us_0024_3T.h5 is successfully saved\n",
      "Imaging acquisition starts acq  32\n",
      "Dimension of Image (with ReadOut ovesampling):  (384, 144, 1, 65, 1, 1, 1)\n",
      "Dimension of Image (without ReadOout ovesampling):  (192, 144, 1, 65, 1, 1, 1)\n",
      "file /home/ec2-user/SageMaker/data/OCMR_fully_sampled_images/us_0040_3T.h5 is successfully saved\n",
      "Imaging acquisition starts acq  32\n",
      "Dimension of Image (with ReadOut ovesampling):  (384, 144, 1, 65, 1, 1, 1)\n",
      "Dimension of Image (without ReadOout ovesampling):  (192, 144, 1, 65, 1, 1, 1)\n",
      "file /home/ec2-user/SageMaker/data/OCMR_fully_sampled_images/us_0075_3T.h5 is successfully saved\n",
      "Imaging acquisition starts acq  32\n",
      "Dimension of Image (with ReadOut ovesampling):  (384, 144, 1, 65, 1, 1, 1)\n",
      "Dimension of Image (without ReadOout ovesampling):  (192, 144, 1, 65, 1, 1, 1)\n",
      "file /home/ec2-user/SageMaker/data/OCMR_fully_sampled_images/us_0010_3T.h5 is successfully saved\n",
      "Imaging acquisition starts acq  32\n",
      "Dimension of Image (with ReadOut ovesampling):  (384, 144, 1, 65, 1, 1, 1)\n",
      "Dimension of Image (without ReadOout ovesampling):  (192, 144, 1, 65, 1, 1, 1)\n",
      "file /home/ec2-user/SageMaker/data/OCMR_fully_sampled_images/us_0006_3T.h5 is successfully saved\n",
      "Imaging acquisition starts acq  0\n",
      "Dimension of Image (with ReadOut ovesampling):  (384, 144, 1, 18, 1, 1, 1)\n",
      "Dimension of Image (without ReadOout ovesampling):  (192, 144, 1, 18, 1, 1, 1)\n",
      "file /home/ec2-user/SageMaker/data/OCMR_fully_sampled_images/fs_0033_3T.h5 is successfully saved\n",
      "Imaging acquisition starts acq  32\n",
      "Dimension of Image (with ReadOut ovesampling):  (384, 144, 1, 19, 1, 12, 1)\n",
      "Dimension of Image (without ReadOout ovesampling):  (192, 144, 1, 19, 1, 12, 1)\n",
      "file /home/ec2-user/SageMaker/data/OCMR_fully_sampled_images/fs_0074_1_5T.h5 is successfully saved\n",
      "Imaging acquisition starts acq  32\n",
      "Dimension of Image (with ReadOut ovesampling):  (384, 144, 1, 65, 1, 1, 1)\n",
      "Dimension of Image (without ReadOout ovesampling):  (192, 144, 1, 65, 1, 1, 1)\n",
      "file /home/ec2-user/SageMaker/data/OCMR_fully_sampled_images/us_0055_3T.h5 is successfully saved\n",
      "Imaging acquisition starts acq  0\n",
      "Dimension of Image (with ReadOut ovesampling):  (384, 144, 1, 22, 1, 1, 1)\n",
      "Dimension of Image (without ReadOout ovesampling):  (192, 144, 1, 22, 1, 1, 1)\n",
      "file /home/ec2-user/SageMaker/data/OCMR_fully_sampled_images/fs_0020_3T.h5 is successfully saved\n",
      "Imaging acquisition starts acq  32\n",
      "Dimension of Image (with ReadOut ovesampling):  (384, 144, 1, 65, 1, 1, 1)\n",
      "Dimension of Image (without ReadOout ovesampling):  (192, 144, 1, 65, 1, 1, 1)\n",
      "file /home/ec2-user/SageMaker/data/OCMR_fully_sampled_images/us_0025_3T.h5 is successfully saved\n",
      "Imaging acquisition starts acq  32\n",
      "Dimension of Image (with ReadOut ovesampling):  (384, 144, 1, 65, 1, 1, 1)\n",
      "Dimension of Image (without ReadOout ovesampling):  (192, 144, 1, 65, 1, 1, 1)\n",
      "file /home/ec2-user/SageMaker/data/OCMR_fully_sampled_images/us_0015_3T.h5 is successfully saved\n",
      "Imaging acquisition starts acq  32\n",
      "Dimension of Image (with ReadOut ovesampling):  (384, 144, 1, 65, 1, 1, 1)\n",
      "Dimension of Image (without ReadOout ovesampling):  (192, 144, 1, 65, 1, 1, 1)\n",
      "file /home/ec2-user/SageMaker/data/OCMR_fully_sampled_images/us_0059_3T.h5 is successfully saved\n",
      "Imaging acquisition starts acq  32\n",
      "Dimension of Image (with ReadOut ovesampling):  (384, 144, 1, 65, 1, 1, 1)\n",
      "Dimension of Image (without ReadOout ovesampling):  (192, 144, 1, 65, 1, 1, 1)\n",
      "file /home/ec2-user/SageMaker/data/OCMR_fully_sampled_images/us_0068_3T.h5 is successfully saved\n",
      "Imaging acquisition starts acq  32\n",
      "Dimension of Image (with ReadOut ovesampling):  (384, 144, 1, 65, 1, 1, 1)\n",
      "Dimension of Image (without ReadOout ovesampling):  (192, 144, 1, 65, 1, 1, 1)\n",
      "file /home/ec2-user/SageMaker/data/OCMR_fully_sampled_images/us_0067_3T.h5 is successfully saved\n",
      "Imaging acquisition starts acq  32\n"
     ]
    }
   ],
   "source": [
    "for fileind in range(len(regular_files)):\n",
    "    filename    = regular_files[fileind][0]\n",
    "    kData,param = read.read_ocmr(datapath+filename)\n",
    "    kData_tmp   = np.mean(kData, axis = 8) # average the k-space if average > 1, remove a dimension\n",
    "    # Image reconstruction (SoS)\n",
    "    im_coil = transform.transform_kspace_to_image(kData_tmp, [0,1]) # IFFT (2D image)\n",
    "    im_sos  = np.sqrt(np.sum(np.abs(im_coil) ** 2, 3)) # Sum of Square, remove a dimension\n",
    "    print('Dimension of Image (with ReadOut ovesampling): ', im_sos.shape)\n",
    "    RO    = im_sos.shape[0]\n",
    "    image = im_sos[math.floor(RO/4):math.floor(RO/4*3),:,:] # Remove RO oversampling\n",
    "    print('Dimension of Image (without ReadOout ovesampling): ', image.shape)\n",
    "    \n",
    "    for sliceind in range(image.shape[5]):\n",
    "        image[:,:,:,:,:,sliceind,:] /= image[:,:,:,:,:,sliceind,:].max() # normalization of the image\n",
    "    \n",
    "    torch.save(torch.tensor(image) , savepath + filename[:-3] + '.pt')\n",
    "    print(f'file {savepath + filename} is successfully saved')"
   ]
  },
  {
   "cell_type": "markdown",
   "id": "eb763066",
   "metadata": {},
   "source": [
    "# view an example file"
   ]
  },
  {
   "cell_type": "code",
   "execution_count": 9,
   "id": "da1f2291",
   "metadata": {},
   "outputs": [
    {
     "name": "stdout",
     "output_type": "stream",
     "text": [
      "[['fs_0024_3T.h5' (384, 144, 1, 38, 22, 1, 1, 1, 1)]\n",
      " ['us_0024_3T.h5' (384, 144, 1, 34, 65, 1, 1, 1, 1)]\n",
      " ['us_0040_3T.h5' (384, 144, 1, 30, 65, 1, 1, 1, 1)]\n",
      " ['us_0075_3T.h5' (384, 144, 1, 34, 65, 1, 1, 1, 1)]\n",
      " ['us_0010_3T.h5' (384, 144, 1, 34, 65, 1, 1, 1, 1)]\n",
      " ['us_0006_3T.h5' (384, 144, 1, 30, 65, 1, 1, 1, 1)]\n",
      " ['fs_0033_3T.h5' (384, 144, 1, 34, 18, 1, 1, 1, 2)]\n",
      " ['fs_0074_1_5T.h5' (384, 144, 1, 24, 19, 1, 12, 1, 1)]\n",
      " ['us_0055_3T.h5' (384, 144, 1, 34, 65, 1, 1, 1, 1)]\n",
      " ['fs_0020_3T.h5' (384, 144, 1, 38, 22, 1, 1, 1, 1)]\n",
      " ['us_0025_3T.h5' (384, 144, 1, 34, 65, 1, 1, 1, 1)]\n",
      " ['us_0015_3T.h5' (384, 144, 1, 34, 65, 1, 1, 1, 1)]\n",
      " ['us_0059_3T.h5' (384, 144, 1, 34, 65, 1, 1, 1, 1)]\n",
      " ['us_0068_3T.h5' (384, 144, 1, 34, 65, 1, 1, 1, 1)]\n",
      " ['us_0067_3T.h5' (384, 144, 1, 34, 65, 1, 1, 1, 1)]\n",
      " ['us_0004_3T.h5' (384, 144, 1, 34, 65, 1, 1, 1, 1)]\n",
      " ['fs_0011_1_5T.h5' (384, 144, 1, 18, 22, 1, 1, 1, 1)]\n",
      " ['us_0002_3T.h5' (384, 144, 1, 34, 65, 1, 1, 1, 1)]\n",
      " ['us_0026_3T.h5' (384, 144, 1, 34, 65, 1, 1, 1, 1)]\n",
      " ['fs_0036_3T.h5' (384, 144, 1, 34, 17, 1, 1, 1, 1)]\n",
      " ['us_0005_3T.h5' (384, 144, 1, 34, 65, 1, 1, 1, 1)]\n",
      " ['us_0033_3T.h5' (384, 144, 1, 34, 65, 1, 1, 1, 1)]\n",
      " ['fs_0073_1_5T.h5' (384, 144, 1, 20, 20, 1, 1, 1, 1)]\n",
      " ['us_0036_3T.h5' (384, 144, 1, 34, 65, 1, 1, 1, 1)]\n",
      " ['fs_0060_1_5T.h5' (384, 144, 1, 28, 21, 1, 12, 1, 1)]\n",
      " ['fs_0035_3T.h5' (384, 144, 1, 34, 18, 1, 1, 1, 2)]\n",
      " ['fs_0009_1_5T.h5' (384, 144, 1, 18, 22, 1, 1, 1, 1)]\n",
      " ['us_0001_3T.h5' (384, 144, 1, 34, 65, 1, 1, 1, 1)]\n",
      " ['fs_0072_1_5T.h5' (384, 144, 1, 16, 20, 1, 1, 1, 1)]\n",
      " ['us_0048_3T.h5' (384, 144, 1, 34, 65, 1, 1, 1, 1)]\n",
      " ['us_0020_3T.h5' (384, 144, 1, 34, 65, 1, 1, 1, 1)]\n",
      " ['us_0028_3T.h5' (384, 144, 1, 34, 65, 1, 1, 1, 1)]\n",
      " ['us_0029_3T.h5' (384, 144, 1, 34, 65, 1, 1, 1, 1)]\n",
      " ['us_0043_3T.h5' (384, 144, 1, 34, 65, 1, 1, 1, 1)]\n",
      " ['us_0022_3T.h5' (384, 144, 1, 34, 65, 1, 1, 1, 1)]\n",
      " ['fs_0027_3T.h5' (384, 144, 1, 30, 28, 1, 1, 1, 2)]\n",
      " ['fs_0031_3T.h5' (384, 144, 1, 30, 27, 1, 1, 1, 2)]\n",
      " ['us_0008_3T.h5' (384, 144, 1, 34, 65, 1, 1, 1, 1)]\n",
      " ['us_0085_1_5T.h5' (384, 144, 1, 18, 122, 1, 1, 1, 1)]\n",
      " ['fs_0059_1_5T.h5' (384, 144, 1, 24, 22, 1, 1, 1, 1)]\n",
      " ['us_0056_3T.h5' (384, 144, 1, 34, 65, 1, 1, 1, 1)]\n",
      " ['us_0045_3T.h5' (384, 144, 1, 34, 65, 1, 1, 1, 1)]\n",
      " ['us_0017_3T.h5' (384, 144, 1, 34, 65, 1, 1, 1, 1)]\n",
      " ['us_0030_3T.h5' (384, 144, 1, 34, 65, 1, 1, 1, 1)]\n",
      " ['fs_0038_3T.h5' (384, 144, 1, 20, 16, 1, 1, 1, 2)]\n",
      " ['fs_0025_3T.h5' (384, 144, 1, 30, 27, 1, 1, 1, 2)]\n",
      " ['us_0052_3T.h5' (384, 144, 1, 34, 65, 1, 1, 1, 1)]\n",
      " ['us_0014_3T.h5' (384, 144, 1, 34, 65, 1, 1, 1, 1)]\n",
      " ['fs_0019_3T.h5' (384, 144, 1, 38, 25, 1, 1, 1, 1)]\n",
      " ['us_0076_3T.h5' (384, 144, 1, 26, 65, 1, 1, 1, 1)]\n",
      " ['fs_0044_3T.h5' (384, 144, 1, 30, 26, 1, 1, 1, 1)]\n",
      " ['us_0063_3T.h5' (384, 144, 1, 24, 65, 1, 1, 1, 1)]\n",
      " ['fs_0032_3T.h5' (384, 144, 1, 34, 18, 1, 1, 1, 2)]\n",
      " ['us_0082_1_5T.h5' (384, 144, 1, 18, 122, 1, 1, 1, 1)]\n",
      " ['fs_0046_3T.h5' (384, 144, 1, 30, 25, 1, 1, 1, 1)]\n",
      " ['us_0023_3T.h5' (384, 144, 1, 34, 65, 1, 1, 1, 1)]\n",
      " ['fs_0010_1_5T.h5' (384, 144, 1, 18, 22, 1, 1, 1, 1)]\n",
      " ['fs_0058_1_5T.h5' (384, 144, 1, 24, 22, 1, 1, 1, 1)]\n",
      " ['us_0039_3T.h5' (384, 144, 1, 34, 65, 1, 1, 1, 1)]\n",
      " ['us_0064_3T.h5' (384, 144, 1, 34, 65, 1, 1, 1, 1)]\n",
      " ['fs_0021_3T.h5' (384, 144, 1, 38, 22, 1, 1, 1, 1)]\n",
      " ['fs_0040_3T.h5' (384, 144, 1, 20, 16, 1, 1, 1, 2)]\n",
      " ['us_0071_3T.h5' (384, 144, 1, 34, 65, 1, 1, 1, 1)]\n",
      " ['us_0027_3T.h5' (384, 144, 1, 34, 65, 1, 1, 1, 1)]\n",
      " ['us_0021_3T.h5' (384, 144, 1, 34, 65, 1, 1, 1, 1)]\n",
      " ['us_0077_3T.h5' (384, 144, 1, 34, 65, 1, 1, 1, 1)]\n",
      " ['us_0041_3T.h5' (384, 144, 1, 34, 65, 1, 1, 1, 1)]\n",
      " ['us_0051_3T.h5' (384, 144, 1, 30, 65, 1, 1, 1, 1)]\n",
      " ['fs_0061_1_5T.h5' (384, 144, 1, 16, 22, 1, 1, 1, 1)]\n",
      " ['us_0065_3T.h5' (384, 144, 1, 34, 65, 1, 1, 1, 1)]\n",
      " ['fs_0029_3T.h5' (384, 144, 1, 30, 28, 1, 1, 1, 2)]\n",
      " ['fs_0030_3T.h5' (384, 144, 1, 30, 26, 1, 1, 1, 2)]\n",
      " ['us_0050_3T.h5' (384, 144, 1, 34, 65, 1, 1, 1, 1)]\n",
      " ['fs_0070_1_5T.h5' (384, 144, 1, 20, 25, 1, 1, 1, 1)]\n",
      " ['us_0053_3T.h5' (384, 144, 1, 34, 65, 1, 1, 1, 1)]\n",
      " ['us_0007_3T.h5' (384, 144, 1, 34, 65, 1, 1, 1, 1)]\n",
      " ['fs_0007_1_5T.h5' (384, 144, 1, 18, 23, 1, 1, 1, 1)]\n",
      " ['us_0046_3T.h5' (384, 144, 1, 34, 65, 1, 1, 1, 1)]\n",
      " ['us_0003_3T.h5' (384, 144, 1, 34, 65, 1, 1, 1, 1)]\n",
      " ['fs_0042_3T.h5' (384, 144, 1, 20, 17, 1, 1, 1, 2)]\n",
      " ['us_0047_3T.h5' (384, 144, 1, 34, 65, 1, 1, 1, 1)]\n",
      " ['fs_0067_1_5T.h5' (384, 144, 1, 24, 22, 1, 1, 1, 1)]\n",
      " ['us_0069_3T.h5' (384, 144, 1, 34, 65, 1, 1, 1, 1)]\n",
      " ['us_0061_3T.h5' (384, 144, 1, 34, 65, 1, 1, 1, 1)]\n",
      " ['us_0038_3T.h5' (384, 144, 1, 24, 65, 1, 1, 1, 1)]\n",
      " ['us_0034_3T.h5' (384, 144, 1, 34, 65, 1, 1, 1, 1)]\n",
      " ['fs_0023_3T.h5' (384, 144, 1, 38, 22, 1, 1, 1, 1)]\n",
      " ['us_0072_3T.h5' (384, 144, 1, 34, 65, 1, 1, 1, 1)]\n",
      " ['fs_0028_3T.h5' (384, 144, 1, 30, 28, 1, 1, 1, 2)]\n",
      " ['us_0012_3T.h5' (384, 144, 1, 34, 65, 1, 1, 1, 1)]\n",
      " ['fs_0041_3T.h5' (384, 144, 1, 20, 18, 1, 1, 1, 2)]\n",
      " ['us_0058_3T.h5' (384, 144, 1, 34, 65, 1, 1, 1, 1)]\n",
      " ['us_0011_3T.h5' (384, 144, 1, 30, 65, 1, 1, 1, 1)]\n",
      " ['fs_0034_3T.h5' (384, 144, 1, 34, 18, 1, 1, 1, 2)]\n",
      " ['us_0060_3T.h5' (384, 144, 1, 34, 65, 1, 1, 1, 1)]\n",
      " ['us_0032_3T.h5' (384, 144, 1, 34, 65, 1, 1, 1, 1)]\n",
      " ['fs_0045_3T.h5' (384, 144, 1, 30, 25, 1, 10, 1, 1)]\n",
      " ['us_0074_3T.h5' (384, 144, 1, 34, 65, 1, 1, 1, 1)]\n",
      " ['us_0016_3T.h5' (384, 144, 1, 34, 65, 1, 1, 1, 1)]\n",
      " ['fs_0043_3T.h5' (384, 144, 1, 20, 18, 1, 1, 1, 2)]\n",
      " ['us_0035_3T.h5' (384, 144, 1, 34, 65, 1, 1, 1, 1)]\n",
      " ['us_0037_3T.h5' (384, 144, 1, 34, 65, 1, 1, 1, 1)]\n",
      " ['fs_0037_3T.h5' (384, 144, 1, 34, 22, 1, 1, 1, 2)]\n",
      " ['us_0062_3T.h5' (384, 144, 1, 34, 65, 1, 1, 1, 1)]\n",
      " ['us_0070_3T.h5' (384, 144, 1, 34, 65, 1, 1, 1, 1)]\n",
      " ['fs_0039_3T.h5' (384, 144, 1, 20, 16, 1, 1, 1, 2)]\n",
      " ['us_0009_3T.h5' (384, 144, 1, 34, 65, 1, 1, 1, 1)]\n",
      " ['fs_0026_3T.h5' (384, 144, 1, 30, 27, 1, 1, 1, 2)]\n",
      " ['us_0049_3T.h5' (384, 144, 1, 34, 65, 1, 1, 1, 1)]\n",
      " ['us_0044_3T.h5' (384, 144, 1, 34, 65, 1, 1, 1, 1)]\n",
      " ['fs_0022_3T.h5' (384, 144, 1, 38, 22, 1, 1, 1, 1)]\n",
      " ['us_0066_3T.h5' (384, 144, 1, 34, 65, 1, 1, 1, 1)]\n",
      " ['fs_0069_1_5T.h5' (384, 144, 1, 24, 25, 1, 12, 1, 1)]\n",
      " ['us_0031_3T.h5' (384, 144, 1, 34, 65, 1, 1, 1, 1)]\n",
      " ['us_0054_3T.h5' (384, 144, 1, 34, 65, 1, 1, 1, 1)]\n",
      " ['us_0057_3T.h5' (384, 144, 1, 34, 65, 1, 1, 1, 1)]\n",
      " ['fs_0057_1_5T.h5' (384, 144, 1, 28, 25, 1, 12, 1, 1)]\n",
      " ['us_0073_3T.h5' (384, 144, 1, 34, 65, 1, 1, 1, 1)]\n",
      " ['us_0019_3T.h5' (384, 144, 1, 34, 65, 1, 1, 1, 1)]\n",
      " ['us_0042_3T.h5' (384, 144, 1, 34, 65, 1, 1, 1, 1)]\n",
      " ['us_0013_3T.h5' (384, 144, 1, 34, 65, 1, 1, 1, 1)]\n",
      " ['us_0018_3T.h5' (384, 144, 1, 34, 65, 1, 1, 1, 1)]]\n"
     ]
    }
   ],
   "source": [
    "regular_files = np.load('/home/ec2-user/SageMaker/RLsamp/useful_files.npz',allow_pickle=True)['files']\n",
    "print(regular_files)"
   ]
  },
  {
   "cell_type": "code",
   "execution_count": null,
   "id": "fda8d4c9",
   "metadata": {},
   "outputs": [],
   "source": [
    "regular_files[0][0]"
   ]
  },
  {
   "cell_type": "code",
   "execution_count": 17,
   "id": "d3eaea9f",
   "metadata": {},
   "outputs": [],
   "source": [
    "datapath = '/home/ec2-user/SageMaker/data/OCMR_fully_sampled_images/' # change as needed\n",
    "file = 'us_0018_3T.pt'  # pick an example file\n",
    "data = torch.load(datapath+file)"
   ]
  },
  {
   "cell_type": "code",
   "execution_count": null,
   "id": "8e7827af",
   "metadata": {},
   "outputs": [],
   "source": [
    "data.shape"
   ]
  },
  {
   "cell_type": "code",
   "execution_count": null,
   "id": "abe30831",
   "metadata": {
    "scrolled": true
   },
   "outputs": [
    {
     "data": {
      "image/png": "[encoded data removed]",
      "text/plain": [
       "<Figure size 432x288 with 2 Axes>"
      ]
     },
     "metadata": {
      "needs_background": "light"
     },
     "output_type": "display_data"
    }
   ],
   "source": [
    "# Show the reconstructed cine image\n",
    "from IPython.display import clear_output\n",
    "import time\n",
    "\n",
    "slc_idx = 0 # math.floor(SLC/2)\n",
    "print(slc_idx)\n",
    "for rep in range(1): # repeat the movie for 5 times\n",
    "    for frame in range(data.shape[3]):\n",
    "        clear_output(wait=True)\n",
    "        plt.imshow(data[:,:,0,frame,0,slc_idx,:], vmin=0, vmax=data.max(), cmap = 'gray'); plt.axis('off');\n",
    "        plt.colorbar()\n",
    "        plt.show() \n",
    "        time.sleep(0.03)"
   ]
  },
  {
   "cell_type": "markdown",
   "id": "45fef437",
   "metadata": {},
   "source": [
    "## reference viewing procedure (from original source data)"
   ]
  },
  {
   "cell_type": "code",
   "execution_count": null,
   "id": "908505b2",
   "metadata": {
    "scrolled": true
   },
   "outputs": [],
   "source": [
    "# Load the data, display size of kData and scan parmaters\n",
    "filename = '/home/ec2-user/SageMaker/data/OCMR_data/fs_0028_3T.h5'\n",
    "kData,param = read.read_ocmr(filename);\n",
    "print('Dimension of kData: ', kData.shape)"
   ]
  },
  {
   "cell_type": "code",
   "execution_count": null,
   "id": "ecb2a3c5",
   "metadata": {},
   "outputs": [],
   "source": [
    "# Image reconstruction (SoS)\n",
    "dim_kData = kData.shape; CH = dim_kData[3]; SLC = dim_kData[6]; \n",
    "kData_tmp = np.mean(kData, axis = 8); # average the k-space if average > 1\n",
    "\n",
    "im_coil = transform.transform_kspace_to_image(kData_tmp, [0,1]); # IFFT (2D image)\n",
    "im_sos = np.sqrt(np.sum(np.abs(im_coil) ** 2, 3)); # Sum of Square\n",
    "print('Dimension of Image (with ReadOut ovesampling): ', im_sos.shape)\n",
    "RO = im_sos.shape[0];\n",
    "image = im_sos[math.floor(RO/4):math.floor(RO/4*3),:,:]; # Remove RO oversampling\n",
    "print('Dimension of Image (without ReadOout ovesampling): ', image.shape)"
   ]
  },
  {
   "cell_type": "code",
   "execution_count": null,
   "id": "66c571d6",
   "metadata": {},
   "outputs": [],
   "source": [
    "# Show the reconstructed cine image\n",
    "from IPython.display import clear_output\n",
    "import time\n",
    "\n",
    "slc_idx = math.floor(SLC/2);\n",
    "print(slc_idx)\n",
    "image_slc = np.squeeze(image[:,:,:,:,:,slc_idx,:]);\n",
    "for rep in range(5): # repeate the movie for 5 times\n",
    "    for frame in range(image_slc.shape[2]):\n",
    "      clear_output(wait=True)\n",
    "      plt.imshow(image_slc[:,:,frame], vmin=0, vmax=0.6*np.amax(image_slc), cmap = 'gray'); plt.axis('off');\n",
    "      plt.show() \n",
    "      time.sleep(0.03)"
   ]
  }
 ],
 "metadata": {
  "kernelspec": {
   "display_name": "conda_pytorch_p38",
   "language": "python",
   "name": "conda_pytorch_p38"
  },
  "language_info": {
   "codemirror_mode": {
    "name": "ipython",
    "version": 3
   },
   "file_extension": ".py",
   "mimetype": "text/x-python",
   "name": "python",
   "nbconvert_exporter": "python",
   "pygments_lexer": "ipython3",
   "version": "3.8.12"
  }
 },
 "nbformat": 4,
 "nbformat_minor": 5
}
