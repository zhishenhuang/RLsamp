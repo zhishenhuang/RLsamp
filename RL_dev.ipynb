{
 "cells": [
  {
   "cell_type": "code",
   "execution_count": 1,
   "id": "166eac3d",
   "metadata": {},
   "outputs": [
    {
     "data": {
      "text/html": [
       "<style>\n",
       ".container{width:85%}\n",
       "<style>\n"
      ],
      "text/plain": [
       "<IPython.core.display.HTML object>"
      ]
     },
     "metadata": {},
     "output_type": "display_data"
    }
   ],
   "source": [
    "%%html\n",
    "<style>\n",
    ".container{width:85%}\n",
    "<style>"
   ]
  },
  {
   "cell_type": "code",
   "execution_count": null,
   "id": "baa4965e",
   "metadata": {
    "scrolled": true
   },
   "outputs": [],
   "source": [
    "!conda install -c frankong sigpy"
   ]
  },
  {
   "cell_type": "code",
   "execution_count": 2,
   "id": "6630bed1",
   "metadata": {},
   "outputs": [],
   "source": [
    "import RL_samp\n",
    "from RL_samp.header import *\n",
    "from RL_samp.utils import *\n",
    "from RL_samp.replay_buffer import *\n",
    "from RL_samp.models import poly_net, val_net\n",
    "# from RL_samp.reconstructors import sigpy_solver\n",
    "from RL_samp.policies import DQN\n",
    "from RL_samp.trainers import DeepQL_trainer #, AC1_ET_trainer\n",
    "\n",
    "from importlib import reload\n",
    "import matplotlib.pyplot as plt\n",
    "from matplotlib import colors\n",
    "import torch.nn.functional as Func\n",
    "\n",
    "def rolling_mean(x,window):\n",
    "    window = int(window)\n",
    "\n",
    "    # Stephen: for large data, the above gets a bit slow, so we can do this:\n",
    "#   y = np.convolve(x, np.ones(window)/window, mode='valid')\n",
    "#   return y\n",
    "    # or https://stackoverflow.com/a/27681394\n",
    "    cumsum = np.cumsum(np.insert(x, 0, 0))\n",
    "    return (cumsum[window:] - cumsum[:-window]) / float(window)"
   ]
  },
  {
   "cell_type": "code",
   "execution_count": null,
   "id": "567448e4",
   "metadata": {},
   "outputs": [],
   "source": [
    "fs_dataloader = dataloader()"
   ]
  },
  {
   "cell_type": "code",
   "execution_count": null,
   "id": "5daf84c4",
   "metadata": {},
   "outputs": [],
   "source": [
    "fs_dataloader.load()"
   ]
  },
  {
   "cell_type": "code",
   "execution_count": null,
   "id": "56e75914",
   "metadata": {},
   "outputs": [],
   "source": [
    "train_percentage = 0.75\n",
    "\n",
    "datapath = '/home/ec2-user/SageMaker/data/OCMR_fully_sampled_images/'\n",
    "ncfiles = list([])\n",
    "for file in os.listdir(datapath):\n",
    "    if file.endswith(\".pt\") and file.startswith('fs'):\n",
    "        ncfiles.append(file)\n",
    "print('debug: ncfiles[0] is ', ncfiles[0])\n",
    "print('Number of useful files: ', len(ncfiles))\n",
    "random.shuffle(ncfiles)\n",
    "print('debug: ncfiles[0] is ', ncfiles[0])\n",
    "train_file_num = int(np.ceil(train_percentage*len(ncfiles)))\n",
    "\n",
    "train_files = ncfiles[0:train_file_num]\n",
    "print('Number of Train  files: ', len(train_files))\n",
    "test_files = ncfiles[train_file_num:]\n",
    "print('Number of Test   files: ', len(test_files))"
   ]
  },
  {
   "cell_type": "code",
   "execution_count": null,
   "id": "0e4e2e3f",
   "metadata": {},
   "outputs": [],
   "source": [
    "np.savez('/home/ec2-user/SageMaker/RLsamp/train_files.npz',files=train_files)\n",
    "np.savez('/home/ec2-user/SageMaker/RLsamp/test_files.npz', files=test_files)"
   ]
  },
  {
   "cell_type": "code",
   "execution_count": null,
   "id": "2ee117b3",
   "metadata": {},
   "outputs": [],
   "source": [
    "datapath = '/home/ec2-user/SageMaker/data/OCMR_fully_sampled_images/'\n",
    "ncfiles = list([])\n",
    "for file in os.listdir(datapath):\n",
    "    if file.endswith(\".pt\") and file.startswith('fs'):\n",
    "        ncfiles.append(file)"
   ]
  },
  {
   "cell_type": "code",
   "execution_count": null,
   "id": "d59ecc29",
   "metadata": {},
   "outputs": [],
   "source": [
    "useful_files = np.load('/home/ec2-user/SageMaker/RLsamp/useful_files.npz', allow_pickle=True)['files']\n",
    "train_files  = np.load('/home/ec2-user/SageMaker/RLsamp/train_files.npz', allow_pickle=True)['files']\n",
    "test_files   = np.load('/home/ec2-user/SageMaker/RLsamp/test_files.npz', allow_pickle=True)['files']"
   ]
  },
  {
   "cell_type": "code",
   "execution_count": null,
   "id": "ae5983bb",
   "metadata": {
    "scrolled": true
   },
   "outputs": [],
   "source": [
    "time_dim = [[],[]]\n",
    "slice_dim = [[],[]]\n",
    "rep_dim = [[],[]]\n",
    "for row in useful_files:\n",
    "    if row[0].startswith('fs'):\n",
    "        if (row[0][:-3] + '.pt') in train_files:\n",
    "            time_dim[0].append(row[1][4])\n",
    "            slice_dim[0].append(row[1][6])\n",
    "            rep_dim[0].append(row[1][7])\n",
    "        if (row[0][:-3] + '.pt') in test_files:\n",
    "            time_dim[1].append(row[1][4])\n",
    "            slice_dim[1].append(row[1][6])\n",
    "            rep_dim[1].append(row[1][7])"
   ]
  },
  {
   "cell_type": "code",
   "execution_count": null,
   "id": "e0d4cb13",
   "metadata": {
    "scrolled": true
   },
   "outputs": [],
   "source": [
    "sorted(rep_dim[1])"
   ]
  },
  {
   "cell_type": "code",
   "execution_count": null,
   "id": "05055199",
   "metadata": {
    "scrolled": true
   },
   "outputs": [],
   "source": [
    "print('train: ',train_files, len(train_files) )\n",
    "print('test: ', test_files, len(test_files) )\n"
   ]
  },
  {
   "cell_type": "code",
   "execution_count": null,
   "id": "50f013b6",
   "metadata": {
    "scrolled": true
   },
   "outputs": [],
   "source": [
    "ex_data = torch.load('/home/ec2-user/SageMaker/data/OCMR_fully_sampled_images/fs_0074_1_5T.h5')"
   ]
  },
  {
   "cell_type": "code",
   "execution_count": null,
   "id": "b1e7d14d",
   "metadata": {},
   "outputs": [],
   "source": [
    "loader.reset()\n",
    "iterMax = 2000\n",
    "for ind in range(iterMax):\n",
    "    loader.test()"
   ]
  },
  {
   "cell_type": "code",
   "execution_count": null,
   "id": "8b6ba958",
   "metadata": {},
   "outputs": [],
   "source": [
    "### DQN Parameter settings\n",
    "\n",
    "## image parameters\n",
    "heg = 192\n",
    "wid = 144\n",
    "\n",
    "## reconstructor parameters\n",
    "max_iter = 50\n",
    "L = 5e-3\n",
    "solver = 'ADMM'\n",
    "\n",
    "## trainer parameters\n",
    "discount    = .5\n",
    "memory_len  = 20\n",
    "t_backtrack = 3\n",
    "base        = 5\n",
    "budget      = 13\n",
    "episodes    = 1\n",
    "save_freq   = 10\n",
    "batch_size  = 2\n",
    "ngpu        = 1\n",
    "lr          = 1e-3\n",
    "eps         = 1e-3\n",
    "double_q    = False"
   ]
  },
  {
   "cell_type": "code",
   "execution_count": null,
   "id": "9a1dfd8c",
   "metadata": {},
   "outputs": [],
   "source": [
    "reload(RL_samp)\n",
    "import RL_samp\n",
    "import RL_samp.trainers\n",
    "from RL_samp.trainers import DeepQL_trainer\n"
   ]
  },
  {
   "cell_type": "code",
   "execution_count": null,
   "id": "573563ee",
   "metadata": {},
   "outputs": [],
   "source": [
    "loader  = ocmrLoader(ncfiles,batch_size=1,t_backtrack=t_backtrack)\n",
    "memory  = ReplayMemory(capacity=memory_len,\n",
    "                       curr_obs_shape=(t_backtrack,heg,wid),\n",
    "                       mask_shape=(wid),\n",
    "                       next_obs_shape=(1,heg,wid),\n",
    "                       batch_size=batch_size,\n",
    "                       burn_in=batch_size)\n",
    "model   = poly_net(samp_dim=wid)\n",
    "policy  = DQN(model,memory,max_iter=max_iter,ngpu=ngpu,gamma=discount,lr=lr,double_q_mode=double_q,\n",
    "              solver=solver,max_iter=max_iter,L=L)\n",
    "trainer = DeepQL_trainer(loader,policy,episodes=episodes,\n",
    "                         eps=eps,\n",
    "                         base=base,budget=budget,\n",
    "                         ngpu=ngpu)\n",
    "trainer.train()"
   ]
  },
  {
   "cell_type": "code",
   "execution_count": null,
   "id": "ad98f4fc",
   "metadata": {},
   "outputs": [],
   "source": [
    "### AC1 Parameter settings\n",
    "\n",
    "## image parameters\n",
    "heg = 192\n",
    "wid = 144\n",
    "\n",
    "## reconstructor parameters\n",
    "max_iter = 50\n",
    "L = 5e-3\n",
    "solver = 'ADMM'\n",
    "\n",
    "## trainer parameters\n",
    "discount    = .9\n",
    "t_backtrack = 3\n",
    "base        = 5\n",
    "budget      = 13\n",
    "episodes    = 1\n",
    "save_freq   = 10\n",
    "batch_size  = 2\n",
    "ngpu        = 0\n",
    "lr          = 1e-3\n",
    "eps         = 1e-3\n",
    "double_q    = False"
   ]
  },
  {
   "cell_type": "code",
   "execution_count": null,
   "id": "daded36b",
   "metadata": {},
   "outputs": [],
   "source": [
    "reload(RL_samp)\n",
    "import RL_samp\n",
    "from RL_samp.trainers import AC1_trainer"
   ]
  },
  {
   "cell_type": "code",
   "execution_count": null,
   "id": "14039f5d",
   "metadata": {
    "scrolled": false
   },
   "outputs": [],
   "source": [
    "loader  = ocmrLoader(ncfiles,batch_size=1,t_backtrack=t_backtrack)\n",
    "p_net   = poly_net(samp_dim=wid,softmax=True)\n",
    "v_net   = val_net()\n",
    "trainer = AC1_trainer(loader, polynet=p_net, valnet=v_net,\n",
    "                      base=base, budget=budget,\n",
    "                      gamma=discount,\n",
    "                      lr=lr,\n",
    "                      solver=solver, max_iter=max_iter, L=L,\n",
    "                      ngpu=ngpu)\n",
    "trainer.run()"
   ]
  },
  {
   "cell_type": "code",
   "execution_count": null,
   "id": "00214b35",
   "metadata": {},
   "outputs": [],
   "source": [
    "loader  = ocmrLoader(ncfiles,batch_size=1,t_backtrack=t_backtrack)\n",
    "p_net   = poly_net(samp_dim=wid,softmax=True)\n",
    "v_net   = val_net(slope=.5,scale=10)\n",
    "trainer = AC1_ET_trainer(loader, polynet=p_net, valnet=v_net,\n",
    "                      base=base, budget=budget,\n",
    "                      gamma=discount,\n",
    "                      solver=solver, max_iter=max_iter, L=L, reward_scale=9e2,\n",
    "                      ngpu=ngpu)"
   ]
  },
  {
   "cell_type": "code",
   "execution_count": null,
   "id": "37f020ec",
   "metadata": {
    "scrolled": false
   },
   "outputs": [],
   "source": [
    "trainer.run()"
   ]
  },
  {
   "cell_type": "code",
   "execution_count": null,
   "id": "1dde1a2d",
   "metadata": {},
   "outputs": [],
   "source": []
  },
  {
   "cell_type": "markdown",
   "id": "6fe3e762",
   "metadata": {},
   "source": [
    "## view training history: DDQN"
   ]
  },
  {
   "cell_type": "code",
   "execution_count": null,
   "id": "c7715bac",
   "metadata": {
    "scrolled": true
   },
   "outputs": [],
   "source": [
    "hist_dir = '/home/ec2-user/SageMaker/RLsamp/output/DQN_doubleQ_True_ba8_bu16_hist_2023-04-10_BA8BU16_LF_0G_600Epochs.pt'\n",
    "data = torch.load(hist_dir)\n",
    "print(data.keys())"
   ]
  },
  {
   "cell_type": "code",
   "execution_count": null,
   "id": "5486467a",
   "metadata": {},
   "outputs": [],
   "source": [
    "## Loss Convergence Plot\n",
    "plt.rcParams['text.usetex'] = True\n",
    "plt.clf()\n",
    "plt.figure()\n",
    "window_small = 400\n",
    "num_ticks = 6\n",
    "epochs = 600\n",
    "sequence_length = len(rolling_mean(data['training_record']['rmse'],window_small))\n",
    "\n",
    "plt.plot(rolling_mean(data['training_record']['rmse'],window_small), linewidth=0.8, label='DDQN')\n",
    "plt.plot(rolling_mean(data['training_record']['rmse_rand'],window_small), linestyle=':', linewidth=.5,  label='rand.')\n",
    "plt.plot(rolling_mean(data['training_record']['rmse_lowfreq'],window_small), linestyle='--', linewidth=.5,  label='lowfreq.')\n",
    "plt.xticks(ticks=np.arange(0, sequence_length, sequence_length//num_ticks), labels=[epochs//num_ticks * i for i in range(0,num_ticks+1)],fontsize=16)\n",
    "plt.yticks(fontsize=16)\n",
    "plt.xlabel('Epochs', fontsize=20)\n",
    "plt.ylabel(r'Normalized $\\ell_2$ error', fontsize=20)\n",
    "plt.legend(loc='best',fontsize=13)\n",
    "# figname = './figures/DDQN_RMSE_convergence_plot.pdf'\n",
    "# plt.savefig(figname, bbox_inches='tight', transparent=True)\n",
    "plt.show()"
   ]
  },
  {
   "cell_type": "code",
   "execution_count": null,
   "id": "f9329161",
   "metadata": {},
   "outputs": [],
   "source": [
    "## make mask convergence plots\n",
    "sampdim = 144\n",
    "TOTAL_PTS = 700\n",
    "\n",
    "T  = len(data['training_record']['recon_samples'])\n",
    "t0 = 0\n",
    "t1 = 0\n",
    "\n",
    "Ts1 = np.arange(t0,t1,1) \n",
    "Ts2 = np.linspace(t1, T-1, TOTAL_PTS - (t1-t0)).astype(int)\n",
    "Ts  = list(Ts1) + list(Ts2)\n",
    "series = [data['training_record']['recon_samples'][t] for t in Ts]\n",
    "masks = [item[2] for item in series]\n",
    "mask_mat = torch.zeros(sampdim,len(Ts))\n",
    "for ind in range(len(Ts)):\n",
    "    mask_mat[:,ind] = F.fftshift(masks[ind])"
   ]
  },
  {
   "cell_type": "code",
   "execution_count": null,
   "id": "a9d7581d",
   "metadata": {},
   "outputs": [],
   "source": [
    "plt.clf()\n",
    "plt.figure(figsize=(20,3))\n",
    "label_fontsize = 20\n",
    "plt.imshow(mask_mat,origin='lower',cmap='Greys')\n",
    "# plt.xlabel('time',fontsize=label_fontsize)\n",
    "# plt.ylabel('frequencies',fontsize=label_fontsize)\n",
    "plt.yticks([],[])\n",
    "\n",
    "if t1 > t0:\n",
    "    plt.xticks([len(Ts1)],[r'$t_\\ast$'],fontsize=15)\n",
    "else:\n",
    "    plt.xticks([],[])\n",
    "    \n",
    "figname = '/home/ec2-user/SageMaker/RLsamp/figures/DDQN_mask.pdf'\n",
    "plt.savefig(figname, bbox_inches='tight', \n",
    "               transparent=True)\n",
    "plt.show()"
   ]
  },
  {
   "cell_type": "code",
   "execution_count": 16,
   "id": "932d386e",
   "metadata": {
    "scrolled": true
   },
   "outputs": [
    {
     "name": "stdout",
     "output_type": "stream",
     "text": [
      "dict_keys(['testing_record'])\n",
      "dict_keys(['rmse', 'rmse_rand', 'rmse_lowfreq', 'ssim', 'ssim_rand', 'ssim_lowfreq', 'recon_samples', 'recon_samples_rand'])\n"
     ]
    }
   ],
   "source": [
    "# hist_dir = '/home/ec2-user/SageMaker/RLsamp/output/EVAL_DQN_doubleQ_True_ba8_bu16_2023-05-02.pt'\n",
    "hist_dir = '/home/ec2-user/SageMaker/RLsamp/output/EVAL_DQN_doubleQ_True_ba8_bu16_2023-05-08.pt'\n",
    "data = torch.load(hist_dir)\n",
    "print(data.keys())\n",
    "print(data['testing_record'].keys())"
   ]
  },
  {
   "cell_type": "code",
   "execution_count": 17,
   "id": "153fcb77",
   "metadata": {
    "scrolled": true
   },
   "outputs": [
    {
     "name": "stdout",
     "output_type": "stream",
     "text": [
      "DDQN rmse test:  0.53779761676258\n",
      "Rand. rmse test    :  0.679948924661155\n",
      "LowFreq. rmse test :  0.53779761676258\n",
      "\n",
      "\n",
      "DDQN rmse test:  0.6385296720234377\n",
      "Rand. rmse test    :  0.4177503257576175\n",
      "LowFreq. rmse test :  0.6385296720234377\n"
     ]
    }
   ],
   "source": [
    "print('DDQN rmse test: ', np.mean(data['testing_record']['rmse']))\n",
    "print('Rand. rmse test    : ', np.mean(data['testing_record']['rmse_rand']))\n",
    "print('LowFreq. rmse test : ', np.mean(data['testing_record']['rmse_lowfreq']))\n",
    "print('\\n')\n",
    "print('DDQN rmse test: ', np.mean(data['testing_record']['ssim']))\n",
    "print('Rand. rmse test    : ', np.mean(data['testing_record']['ssim_rand']))\n",
    "print('LowFreq. rmse test : ', np.mean(data['testing_record']['ssim_lowfreq']))"
   ]
  },
  {
   "cell_type": "code",
   "execution_count": null,
   "id": "1e88d02f",
   "metadata": {
    "scrolled": true
   },
   "outputs": [],
   "source": [
    "T = 22\n",
    "\n",
    "series = data['testing_record']['recon_samples'][0:T]\n",
    "gts    = [item[0].squeeze().cpu() for item in series]\n",
    "recons = [item[1].squeeze().cpu() for item in series]\n",
    "\n",
    "figsize = (10,40)\n",
    "nrows = 6\n",
    "ncols = 3\n",
    "fig, axs = plt.subplots(nrows=nrows,ncols=ncols,figsize=figsize)\n",
    "\n",
    "window_large = 300\n",
    "window_small = 300\n",
    "\n",
    "frame = np.linspace(0,T-1,nrows).astype(int)\n",
    "for i in range(nrows):\n",
    "    axs[i,0].imshow(gts[frame[i]],vmin=0,vmax=1,cmap='gray')\n",
    "    axs[i,1].set_title(fr'$t={frame[i]+1}$')\n",
    "    axs[i,1].imshow(recons[frame[i]],vmin=0,vmax=1,cmap='gray')\n",
    "    hdl = axs[i,2].imshow(abs(recons[frame[i]]-gts[frame[i]])/gts[frame[i]] , norm=colors.LogNorm(vmin=0.1,vmax=10), cmap='winter')\n",
    "    fig.colorbar(hdl, ax=axs[i,2], location='right', anchor=(0, 0.5), shrink=0.5)\n",
    "\n",
    "for i in range(nrows):\n",
    "    for j in range(ncols):\n",
    "        axs[i,j].set_xticks([])\n",
    "        axs[i,j].set_yticks([])\n",
    "        \n",
    "plt.subplots_adjust(wspace=.1, hspace=0)\n",
    "plt.show()"
   ]
  },
  {
   "cell_type": "code",
   "execution_count": null,
   "id": "406c1e24",
   "metadata": {},
   "outputs": [],
   "source": []
  },
  {
   "cell_type": "code",
   "execution_count": null,
   "id": "d8ea61d3",
   "metadata": {},
   "outputs": [],
   "source": [
    "hist['horizon_rewards'] = [item.item() for item in hist['horizon_rewards']]"
   ]
  },
  {
   "cell_type": "code",
   "execution_count": null,
   "id": "4a07bf9c",
   "metadata": {
    "scrolled": false
   },
   "outputs": [],
   "source": [
    "figsize = (12,13)\n",
    "keys = list(data['training_record'].keys())\n",
    "fig, axs = plt.subplots(nrows=3,ncols=3,figsize=figsize)\n",
    "\n",
    "window_large = 500\n",
    "window_small = 300\n",
    "\n",
    "axs[0,0].plot(rolling_mean(data['training_record']['loss'], window_large))\n",
    "axs[0,0].set_title('running loss')\n",
    "\n",
    "axs[0,1].plot(rolling_mean(data['training_record']['rmse'],window_small), label='RL')\n",
    "axs[0,1].plot(rolling_mean(data['training_record']['rmse_rand'],window_small), label='rand')\n",
    "axs[0,1].plot(rolling_mean(data['training_record']['rmse_lowfreq'],window_small), label='lowfreq.')\n",
    "axs[0,1].set_title('RMSE - recon')\n",
    "axs[0,1].legend(loc='best')\n",
    "# axs[0,1].set_yscale('log')\n",
    "\n",
    "axs[0,2].plot(rolling_mean(data['training_record']['horizon_rewards'],window_small))\n",
    "axs[0,2].set_title('Horizon Reward')\n",
    "# axs[0,2].set_yscale('log')\n",
    "\n",
    "axs[1,0].plot(rolling_mean(data['training_record']['q_values_mean'],window_large))\n",
    "axs[1,0].set_title('Q values mean')\n",
    "\n",
    "\n",
    "axs[1,1].plot(rolling_mean(data['training_record']['grad_norm'],window_large))\n",
    "axs[1,1].set_title('Grad Norm')\n",
    "axs[1,1].set_yscale('log')\n",
    "\n",
    "axs[1,2].axis('off')\n",
    "\n",
    "gt = axs[2,0].imshow(data['training_record']['recon_samples'][-1][0][0,0,:,:].cpu(), origin='lower')\n",
    "axs[2,0].set_title('Target gt')\n",
    "fig.colorbar(gt, ax=axs[2,0], location='right', anchor=(0, 0.3), shrink=0.7)\n",
    "\n",
    "recon = axs[2,1].imshow(data['training_record']['recon_samples'][-1][1][0,0,:,:].cpu(), origin='lower')\n",
    "axs[2,1].set_title('Recon')\n",
    "fig.colorbar(recon, ax=axs[2,1], location='right', anchor=(0, 0.3), shrink=0.7)\n",
    "\n",
    "rel_error = axs[2,2].imshow((data['training_record']['recon_samples'][-1][1][0,0,:,:].cpu() - data['training_record']['recon_samples'][-1][0][0,0,:,:].cpu())/data['training_record']['recon_samples'][-1][0][0,0,:,:].cpu(),\n",
    "                            origin='lower', norm=colors.LogNorm())\n",
    "axs[2,2].set_title('Relative Error')\n",
    "fig.colorbar(rel_error, ax=axs[2,2], location='right', anchor=(0, 0.3), shrink=0.7)\n",
    "\n",
    "\n",
    "plt.show()"
   ]
  },
  {
   "cell_type": "code",
   "execution_count": null,
   "id": "2808a10f",
   "metadata": {},
   "outputs": [],
   "source": [
    "print(keys)"
   ]
  },
  {
   "cell_type": "markdown",
   "id": "7e4187cf",
   "metadata": {},
   "source": [
    "## view training history: Actor-Critic"
   ]
  },
  {
   "cell_type": "code",
   "execution_count": null,
   "id": "5b96c64d",
   "metadata": {},
   "outputs": [],
   "source": [
    "hist_dir = '/home/ec2-user/SageMaker/RLsamp/output/AC1_ET_hist_base8_budget16_2023-04-14_tb8_BA8_BU16_200G_600E_magweg5_rwd1_val_1.pt'\n",
    "data = torch.load(hist_dir)\n",
    "print(data.keys())\n",
    "print(data['training_record'].keys())"
   ]
  },
  {
   "cell_type": "code",
   "execution_count": null,
   "id": "25263126",
   "metadata": {},
   "outputs": [],
   "source": [
    "figsize = (15,15)\n",
    "fig, axs = plt.subplots(nrows=3,ncols=3,figsize=figsize)\n",
    "\n",
    "window_large = 300\n",
    "window_small = 300\n",
    "\n",
    "axs[0,0].plot(rolling_mean(data['training_record']['poly_loss'], window_large))\n",
    "axs[0,0].set_title('policy network running loss')\n",
    "\n",
    "axs[0,1].plot(rolling_mean(data['training_record']['val_loss'],window_small))\n",
    "axs[0,1].set_title('Value network running loss')\n",
    "# axs[0,2].set_yscale('log')\n",
    "\n",
    "axs[0,2].plot(rolling_mean(data['training_record']['v'],window_small))\n",
    "axs[0,2].set_title('running v value')\n",
    "\n",
    "axs[1,0].plot(rolling_mean(data['training_record']['horizon_rewards'],window_large))\n",
    "axs[1,0].set_title('Horizon Rewards')\n",
    "\n",
    "\n",
    "axs[1,1].plot(rolling_mean(data['training_record']['poly_grad_norm'],window_large))\n",
    "axs[1,1].set_title('polynet Grad Norm')\n",
    "# axs[1,1].set_yscale('log')\n",
    "\n",
    "axs[1,2].plot(rolling_mean(data['training_record']['val_grad_norm'],window_large))\n",
    "axs[1,2].set_title('valnet Grad Norm')\n",
    "axs[1,2].set_yscale('log')\n",
    "\n",
    "axs[2,0].plot(rolling_mean(data['training_record']['rmse'],window_small), label='RL')\n",
    "axs[2,0].plot(rolling_mean(data['training_record']['rmse_rand'],window_small), label='rand')\n",
    "axs[2,0].plot(rolling_mean(data['training_record']['rmse_lowfreq'],window_small), label='lowfreq.')\n",
    "axs[2,0].set_title('RMSE - recon')\n",
    "axs[2,0].legend(loc='best')\n",
    "# axs[0,1].set_yscale('log')\n",
    "\n",
    "gt = axs[2,1].imshow(data['training_record']['recon_samples'][-1][0][0,0,:,:])\n",
    "axs[2,1].set_title('Recon')\n",
    "fig.colorbar(gt, ax=axs[2,1], location='right', anchor=(0, 0.3), shrink=0.7)\n",
    "\n",
    "recon = axs[2,2].imshow(data['training_record']['recon_samples'][-1][1][0,0,:,:])\n",
    "axs[2,2].set_title('Target gt')\n",
    "fig.colorbar(recon, ax=axs[2,2], location='right', anchor=(0, 0.3), shrink=0.7)\n",
    "\n",
    "\n",
    "plt.show()"
   ]
  },
  {
   "cell_type": "markdown",
   "id": "11315dfa",
   "metadata": {},
   "source": [
    "## view training history: REINFORCE"
   ]
  },
  {
   "cell_type": "code",
   "execution_count": null,
   "id": "d6799647",
   "metadata": {},
   "outputs": [],
   "source": [
    "## view training history: DDQN\n",
    "hist_dir = '/home/ec2-user/SageMaker/RLsamp/output/REINFORCE_hist_2023-04-24_base8_budget16_BA8_BU16_E1000_G0_H1e-2_wTrue_magweg5_rwd1.pt'\n",
    "data = torch.load(hist_dir)\n",
    "print(data.keys())\n",
    "print(data['training_record'].keys())"
   ]
  },
  {
   "cell_type": "code",
   "execution_count": null,
   "id": "c905eeb5",
   "metadata": {},
   "outputs": [],
   "source": [
    "## Loss Convergence Plot\n",
    "plt.rcParams['text.usetex'] = True\n",
    "plt.clf()\n",
    "plt.figure()\n",
    "window_small = 400\n",
    "num_ticks = 6\n",
    "\n",
    "epochs_total = 1000\n",
    "epochs = 600\n",
    "sequence_length = len(rolling_mean(data['training_record']['rmse'],window_small))\n",
    "plot_range = epochs * sequence_length//epochs_total\n",
    "\n",
    "plt.plot(rolling_mean(data['training_record']['rmse'][:plot_range],window_small), linewidth=0.8, label='REINFORCE')\n",
    "plt.plot(rolling_mean(data['training_record']['rmse_rand'][:plot_range],window_small), linestyle=':', linewidth=.5,  label='rand.')\n",
    "plt.plot(rolling_mean(data['training_record']['rmse_lowfreq'][:plot_range],window_small), linestyle='--', linewidth=.5,  label='lowfreq.')\n",
    "plt.xticks(ticks=np.arange(0, plot_range, plot_range//num_ticks), labels=[epochs//num_ticks * i for i in range(0,num_ticks+1)],fontsize=16)\n",
    "plt.yticks(fontsize=16)\n",
    "plt.xlabel('Epochs', fontsize=20)\n",
    "plt.ylabel(r'Normalized $\\ell_2$ error', fontsize=20)\n",
    "plt.legend(loc='best',fontsize=13)\n",
    "figname = './figures/REINFORCE_RMSE_convergence_plot.pdf'\n",
    "plt.savefig(figname, bbox_inches='tight', \n",
    "               transparent=True)\n",
    "plt.show()"
   ]
  },
  {
   "cell_type": "code",
   "execution_count": null,
   "id": "1eb4b348",
   "metadata": {},
   "outputs": [],
   "source": [
    "## make mask convergence plots\n",
    "sampdim = 144\n",
    "TOTAL_PTS = 700\n",
    "\n",
    "T  = len(data['training_record']['recon_samples'])\n",
    "t0 = 0\n",
    "t1 = 0\n",
    "\n",
    "Ts1 = np.arange(t0,t1,1) \n",
    "Ts2 = np.linspace(t1, T-1, TOTAL_PTS - (t1-t0)).astype(int)\n",
    "Ts  = list(Ts1) + list(Ts2)\n",
    "series = [data['training_record']['recon_samples'][t] for t in Ts]\n",
    "masks = [item[2] for item in series]\n",
    "mask_mat = torch.zeros(sampdim,len(Ts))\n",
    "for ind in range(len(Ts)):\n",
    "    mask_mat[:,ind] = F.fftshift(masks[ind])"
   ]
  },
  {
   "cell_type": "code",
   "execution_count": null,
   "id": "64ffb3d8",
   "metadata": {},
   "outputs": [],
   "source": [
    "plt.clf()\n",
    "plt.figure(figsize=(20,3))\n",
    "label_fontsize = 20\n",
    "plt.imshow(mask_mat,origin='lower',cmap='Greys')\n",
    "# plt.xlabel('time',fontsize=label_fontsize)\n",
    "# plt.ylabel('frequencies',fontsize=label_fontsize)\n",
    "plt.yticks([],[])\n",
    "\n",
    "if t1 > t0:\n",
    "    plt.xticks([len(Ts1)],[r'$t_\\ast$'],fontsize=15)\n",
    "else:\n",
    "    plt.xticks([],[])\n",
    "    \n",
    "figname = '/home/ec2-user/SageMaker/RLsamp/figures/REINFORCE_mask.pdf'\n",
    "plt.savefig(figname, bbox_inches='tight', \n",
    "               transparent=True)\n",
    "plt.show()"
   ]
  },
  {
   "cell_type": "code",
   "execution_count": 13,
   "id": "acf9abe8",
   "metadata": {
    "scrolled": true
   },
   "outputs": [
    {
     "name": "stdout",
     "output_type": "stream",
     "text": [
      "dict_keys(['testing_record'])\n",
      "dict_keys(['rmse', 'recon_samples', 'rmse_rand', 'rmse_lowfreq', 'ssim', 'ssim_rand', 'ssim_lowfreq'])\n"
     ]
    }
   ],
   "source": [
    "# hist_dir = '/home/ec2-user/SageMaker/RLsamp/output/Test_REINFORCE_hist_2023-05-02_base8_budget16_REINFORCE_test_magweg1.0_rwd1.pt'\n",
    "hist_dir = '/home/ec2-user/SageMaker/RLsamp/output/Test_REINFORCE_hist_2023-05-08_base8_budget16_REINFORCE_test_magweg1.0_rwd1.pt'\n",
    "data = torch.load(hist_dir)\n",
    "print(data.keys())\n",
    "print(data['testing_record'].keys())"
   ]
  },
  {
   "cell_type": "code",
   "execution_count": 15,
   "id": "d2bd6a17",
   "metadata": {
    "scrolled": true
   },
   "outputs": [
    {
     "name": "stdout",
     "output_type": "stream",
     "text": [
      "REINFORCE rmse test:  0.5352999488658667\n",
      "Rand. rmse test    :  0.6796782487106651\n",
      "LowFreq. rmse test :  0.53779761676258\n",
      "\n",
      "\n",
      "REINFORCE ssim test:  0.6240303514238591\n",
      "Rand. ssim test    :  0.42094609634867297\n",
      "LowFreq. ssim test :  0.6385296720234378\n"
     ]
    }
   ],
   "source": [
    "print('REINFORCE rmse test: ', np.mean(data['testing_record']['rmse']))\n",
    "print('Rand. rmse test    : ', np.mean(data['testing_record']['rmse_rand']))\n",
    "print('LowFreq. rmse test : ', np.mean(data['testing_record']['rmse_lowfreq']))\n",
    "print('\\n')\n",
    "print('REINFORCE ssim test: ', np.mean(data['testing_record']['ssim']))\n",
    "print('Rand. ssim test    : ', np.mean(data['testing_record']['ssim_rand']))\n",
    "print('LowFreq. ssim test : ', np.mean(data['testing_record']['ssim_lowfreq']))"
   ]
  },
  {
   "cell_type": "code",
   "execution_count": null,
   "id": "3061a902",
   "metadata": {
    "scrolled": false
   },
   "outputs": [],
   "source": [
    "T = 16\n",
    "\n",
    "series = data['testing_record']['recon_samples'][0:T]\n",
    "gts    = [item[0].squeeze().cpu() for item in series]\n",
    "recons = [item[1].squeeze().cpu() for item in series]\n",
    "\n",
    "figsize = (10,25)\n",
    "nrows = 5\n",
    "ncols = 3\n",
    "fig, axs = plt.subplots(nrows=nrows,ncols=ncols,figsize=figsize)\n",
    "\n",
    "window_large = 300\n",
    "window_small = 300\n",
    "\n",
    "frame = np.linspace(0,T-1,nrows).astype(int)\n",
    "for i in range(nrows):\n",
    "    axs[i,0].imshow(gts[frame[i]],vmin=0,vmax=1,cmap='gray')\n",
    "    axs[i,1].set_title(fr'$t={frame[i]+1}$')\n",
    "    axs[i,1].imshow(recons[frame[i]],vmin=0,vmax=1,cmap='gray')\n",
    "    hdl = axs[i,2].imshow(abs(recons[frame[i]]-gts[frame[i]])/gts[frame[i]] , norm=colors.LogNorm(vmin=0.1,vmax=10), cmap='winter')\n",
    "    fig.colorbar(hdl, ax=axs[i,2], location='right', anchor=(0, 0.5), shrink=0.5)\n",
    "\n",
    "for i in range(nrows):\n",
    "    for j in range(ncols):\n",
    "        axs[i,j].set_xticks([])\n",
    "        axs[i,j].set_yticks([])\n",
    "\n",
    "figname = '/home/ec2-user/SageMaker/RLsamp/figures/REINFORCE_recon_example.pdf'\n",
    "plt.savefig(figname, bbox_inches='tight', \n",
    "               transparent=True)\n",
    "\n",
    "plt.subplots_adjust(wspace=.05, hspace=0)\n",
    "plt.show()"
   ]
  },
  {
   "cell_type": "code",
   "execution_count": null,
   "id": "ce07ed69",
   "metadata": {
    "scrolled": false
   },
   "outputs": [],
   "source": [
    "ncfiles = np.load('/home/ec2-user/SageMaker/RLsamp/test_files.npz')['files']\n",
    "t_backtrack = 8\n",
    "datapath = '/home/ec2-user/SageMaker/data/OCMR_fully_sampled_images/'\n",
    "loader  = ocmrLoader(ncfiles,batch_size=1,datapath=datapath,t_backtrack=t_backtrack,train_mode=False)\n"
   ]
  },
  {
   "cell_type": "code",
   "execution_count": null,
   "id": "e72693a4",
   "metadata": {},
   "outputs": [],
   "source": [
    "loader.reset()"
   ]
  },
  {
   "cell_type": "code",
   "execution_count": null,
   "id": "d3eaea9f",
   "metadata": {},
   "outputs": [],
   "source": [
    "file = 'fs_0021_3T.pt'  # pick an example file\n",
    "data = torch.load(datapath+file)\n",
    "print(data.shape)"
   ]
  },
  {
   "cell_type": "code",
   "execution_count": null,
   "id": "abe30831",
   "metadata": {
    "scrolled": false
   },
   "outputs": [],
   "source": [
    "# Show the reconstructed cine image\n",
    "from IPython.display import clear_output\n",
    "import time\n",
    "\n",
    "slc_idx = 0 # math.floor(SLC/2)\n",
    "print(slc_idx)\n",
    "for rep in range(5): # repeat the movie for 5 times\n",
    "    for frame in range(data.shape[3]):\n",
    "        clear_output(wait=True)\n",
    "        plt.imshow(data[:,:,0,frame,0,slc_idx,:], vmin=0, vmax=data.max(), cmap = 'gray'); plt.axis('off');\n",
    "        plt.colorbar()\n",
    "        plt.show() \n",
    "        time.sleep(0.03)"
   ]
  },
  {
   "cell_type": "code",
   "execution_count": null,
   "id": "77575017",
   "metadata": {},
   "outputs": [],
   "source": []
  },
  {
   "cell_type": "code",
   "execution_count": null,
   "id": "821ef49c",
   "metadata": {
    "scrolled": false
   },
   "outputs": [],
   "source": [
    "figsize = (15,15)\n",
    "fig, axs = plt.subplots(nrows=3,ncols=3,figsize=figsize)\n",
    "\n",
    "window_large = 300\n",
    "window_small = 300\n",
    "\n",
    "axs[0,0].plot(rolling_mean(data['training_record']['poly_loss'], window_large))\n",
    "axs[0,0].set_title('policy network running loss')\n",
    "\n",
    "axs[0,1].plot(rolling_mean(data['training_record']['poly_grad_norm'],window_small))\n",
    "axs[0,1].set_title('policy network gradient norm')\n",
    "axs[0,2].set_yscale('log')\n",
    "\n",
    "axs[0,2].plot(rolling_mean(data['training_record']['action_prob'],window_small))\n",
    "axs[0,2].set_title('action probability')\n",
    "\n",
    "axs[1,0].plot(rolling_mean(data['training_record']['horizon_rewards'],window_large))\n",
    "axs[1,0].set_title('Horizon Rewards')\n",
    "\n",
    "\n",
    "# axs[1,1].plot(rolling_mean(data['training_record']['poly_grad_norm'],window_large))\n",
    "# axs[1,1].set_title('polynet Grad Norm')\n",
    "# # axs[1,1].set_yscale('log')\n",
    "\n",
    "# axs[1,2].plot(rolling_mean(data['training_record']['val_grad_norm'],window_large))\n",
    "# axs[1,2].set_title('valnet Grad Norm')\n",
    "# axs[1,2].set_yscale('log')\n",
    "\n",
    "axs[1,1].plot(rolling_mean(data['training_record']['rmse'],window_small), label='RL')\n",
    "axs[1,1].plot(rolling_mean(data['training_record']['rmse_rand'],window_small), label='rand')\n",
    "axs[1,1].plot(rolling_mean(data['training_record']['rmse_lowfreq'],window_small), label='lowfreq.')\n",
    "axs[1,1].set_title('RMSE - recon')\n",
    "axs[1,1].legend(loc='best')\n",
    "# axs[0,1].set_yscale('log')\n",
    "\n",
    "axs[1,2].axis('off')\n",
    "\n",
    "gt = axs[2,0].imshow(data['training_record']['recon_samples'][-1][0][0,0,:,:], origin='lower')\n",
    "axs[2,0].set_title('Target gt')\n",
    "fig.colorbar(gt, ax=axs[2,0], location='right', anchor=(0, 0.3), shrink=0.7)\n",
    "\n",
    "recon = axs[2,1].imshow(data['training_record']['recon_samples'][-1][1][0,0,:,:], origin='lower')\n",
    "axs[2,1].set_title('Recon')\n",
    "fig.colorbar(recon, ax=axs[2,1], location='right', anchor=(0, 0.3), shrink=0.7)\n",
    "\n",
    "rel_error = axs[2,2].imshow((data['training_record']['recon_samples'][-1][1][0,0,:,:] - data['training_record']['recon_samples'][-1][0][0,0,:,:])/data['training_record']['recon_samples'][-1][0][0,0,:,:],\n",
    "                            origin='lower', norm=colors.LogNorm())\n",
    "axs[2,2].set_title('Relative Error')\n",
    "fig.colorbar(rel_error, ax=axs[2,2], location='right', anchor=(0, 0.3), shrink=0.7)\n",
    "\n",
    "plt.show()"
   ]
  },
  {
   "cell_type": "markdown",
   "id": "94b30e32",
   "metadata": {},
   "source": [
    "# Run Tester : DDQN"
   ]
  },
  {
   "cell_type": "code",
   "execution_count": null,
   "id": "2c156ba7",
   "metadata": {},
   "outputs": [],
   "source": [
    "hist_dir = '/home/ec2-user/SageMaker/RLsamp/output/DQN_doubleQ_True_ba8_bu16_hist_2023-04-10_BA8BU16_LF_0G_600Epochs.pt'\n",
    "hist = torch.load(hist_dir)"
   ]
  },
  {
   "cell_type": "code",
   "execution_count": null,
   "id": "acaac4d7",
   "metadata": {},
   "outputs": [],
   "source": [
    "from RL_samp.trainers import DeepQL_tester\n",
    "from unet.unet_model_fbr import Unet"
   ]
  },
  {
   "cell_type": "code",
   "execution_count": null,
   "id": "8a23a9b7",
   "metadata": {},
   "outputs": [],
   "source": [
    "# dataloader params\n",
    "t_backtrack = 8\n",
    "datapath = '/home/ec2-user/SageMaker/data/OCMR_fully_sampled_images/'\n",
    "\n",
    "# unet params\n",
    "unet_rand_dir = '/home/ec2-user/SageMaker/RLsamp/output/recon_models/unet_lowfreq_rand_0.0_fbr_2_chans_64base8_budget16.pt'\n",
    "unet_lowfreq_dir = '/home/ec2-user/SageMaker/RLsamp/output/recon_models/unet_lowfreq_rand_1.0_fbr_2_chans_64base8_budget16.pt'\n",
    "in_chans = 2\n",
    "chans = 64\n",
    "num_pool_layers = 6\n",
    "\n",
    "# policy params\n",
    "discount = .5\n",
    "\n",
    "# tester params\n",
    "fulldim = 144\n",
    "base    = 8\n",
    "budget  = 16\n",
    "device  = torch.device(\"cuda:0\")\n",
    "save_dir = '/home/ec2-user/SageMaker/RLsamp/output/'\n",
    "\n",
    "infostr = 'DDQN_test'"
   ]
  },
  {
   "cell_type": "code",
   "execution_count": null,
   "id": "e1c649f4",
   "metadata": {},
   "outputs": [],
   "source": []
  },
  {
   "cell_type": "code",
   "execution_count": null,
   "id": "92af96ad",
   "metadata": {
    "scrolled": true
   },
   "outputs": [],
   "source": [
    "ncfiles = np.load('/home/ec2-user/SageMaker/RLsamp/test_files.npz')['files']\n",
    "loader  = ocmrLoader(ncfiles,batch_size=1,datapath=datapath,t_backtrack=t_backtrack,train_mode=False)\n",
    "\n",
    "model   = poly_net(samp_dim=fulldim,in_chans=t_backtrack)\n",
    "model.load_state_dict(hist['dqn_weights'])\n",
    "\n",
    "unet_rand = Unet(in_chans=in_chans,out_chans=1,chans=chans,\n",
    "            num_pool_layers=num_pool_layers,drop_prob=0).to(device)\n",
    "rand_checkpoint = torch.load(unet_rand_dir)\n",
    "unet_rand.load_state_dict(rand_checkpoint['model_state_dict'])\n",
    "\n",
    "unet_lowfreq = Unet(in_chans=in_chans,out_chans=1,chans=chans,\n",
    "            num_pool_layers=num_pool_layers,drop_prob=0).to(device)\n",
    "lowfreq_checkpoint = torch.load(unet_lowfreq_dir)\n",
    "unet_lowfreq.load_state_dict(lowfreq_checkpoint['model_state_dict'])\n",
    "\n",
    "policy = DQN(model,[],device=device,gamma=discount,lr=0,\n",
    "                  double_q_mode=True,unet=unet_lowfreq,mag_weight=5,maxGuideEp=0)\n",
    "\n",
    "\n",
    "tester = DeepQL_tester(loader,policy,\n",
    "                         eps=1e-3,\n",
    "                         fulldim=fulldim,\n",
    "                         base=base,\n",
    "                         budget=budget,\n",
    "                         save_dir=save_dir,\n",
    "                         compare=True,\n",
    "                         rand_eval_unet=unet_rand,\n",
    "                         lowfreq_eval_unet=unet_lowfreq,\n",
    "                         infostr=None,\n",
    "                         device=device\n",
    "                         )"
   ]
  },
  {
   "cell_type": "code",
   "execution_count": null,
   "id": "2b9157d5",
   "metadata": {
    "scrolled": false
   },
   "outputs": [],
   "source": [
    "tester.test()"
   ]
  },
  {
   "cell_type": "code",
   "execution_count": null,
   "id": "1e6b642b",
   "metadata": {},
   "outputs": [],
   "source": [
    "eval_hist_path = '/home/ec2-user/SageMaker/RLsamp/output/EVAL_DQN_doubleQ_True_ba8_bu16_2023-05-08.pt'\n",
    "eval_hist = torch.load(eval_hist_path)"
   ]
  },
  {
   "cell_type": "code",
   "execution_count": null,
   "id": "56753770",
   "metadata": {},
   "outputs": [],
   "source": [
    "eval_hist"
   ]
  },
  {
   "cell_type": "markdown",
   "id": "b72911cb",
   "metadata": {},
   "source": [
    "# Run Tester : REINFORCE"
   ]
  },
  {
   "cell_type": "code",
   "execution_count": 3,
   "id": "f7f4ba7f",
   "metadata": {},
   "outputs": [],
   "source": [
    "from RL_samp.REINFORCE import REINFORCE_tester\n",
    "from unet.unet_model_fbr import Unet"
   ]
  },
  {
   "cell_type": "code",
   "execution_count": 4,
   "id": "94f4d965",
   "metadata": {},
   "outputs": [],
   "source": [
    "hist_dir = '/home/ec2-user/SageMaker/RLsamp/output/REINFORCE_hist_2023-04-24_base8_budget16_BA8_BU16_E1000_G0_H1e-2_wTrue_magweg5_rwd1.pt'\n",
    "hist = torch.load(hist_dir)"
   ]
  },
  {
   "cell_type": "code",
   "execution_count": 5,
   "id": "8f655fb7",
   "metadata": {},
   "outputs": [],
   "source": [
    "# dataloader params\n",
    "t_backtrack = 8\n",
    "datapath = '/home/ec2-user/SageMaker/data/OCMR_fully_sampled_images/'\n",
    "\n",
    "# unet params\n",
    "unet_rand_dir = '/home/ec2-user/SageMaker/RLsamp/output/recon_models/unet_lowfreq_rand_0.0_fbr_2_chans_64base8_budget16.pt'\n",
    "unet_lowfreq_dir = '/home/ec2-user/SageMaker/RLsamp/output/recon_models/unet_lowfreq_rand_1.0_fbr_2_chans_64base8_budget16.pt'\n",
    "in_chans = 2\n",
    "chans = 64\n",
    "num_pool_layers = 6\n",
    "\n",
    "# policy params\n",
    "discount = .5\n",
    "\n",
    "# tester params\n",
    "fulldim = 144\n",
    "base    = 8\n",
    "budget  = 16\n",
    "device  = torch.device(\"cuda:0\")\n",
    "save_dir = '/home/ec2-user/SageMaker/RLsamp/output/'\n",
    "\n",
    "infostr = 'REINFORCE_test'"
   ]
  },
  {
   "cell_type": "code",
   "execution_count": 6,
   "id": "a4bae76a",
   "metadata": {},
   "outputs": [
    {
     "data": {
      "text/plain": [
       "<All keys matched successfully>"
      ]
     },
     "execution_count": 6,
     "metadata": {},
     "output_type": "execute_result"
    }
   ],
   "source": [
    "ncfiles = np.load('/home/ec2-user/SageMaker/RLsamp/test_files.npz')['files']\n",
    "loader  = ocmrLoader(ncfiles,batch_size=1,datapath=datapath,t_backtrack=t_backtrack,train_mode=False)\n",
    "\n",
    "model   = poly_net(samp_dim=fulldim,softmax=True,in_chans=t_backtrack)\n",
    "model.load_state_dict(hist['polynet_weights'])\n",
    "\n",
    "unet_rand = Unet(in_chans=in_chans,out_chans=1,chans=chans,\n",
    "            num_pool_layers=num_pool_layers,drop_prob=0).to(device)\n",
    "rand_checkpoint = torch.load(unet_rand_dir)\n",
    "unet_rand.load_state_dict(rand_checkpoint['model_state_dict'])\n",
    "\n",
    "unet_lowfreq = Unet(in_chans=in_chans,out_chans=1,chans=chans,\n",
    "            num_pool_layers=num_pool_layers,drop_prob=0).to(device)\n",
    "lowfreq_checkpoint = torch.load(unet_lowfreq_dir)\n",
    "unet_lowfreq.load_state_dict(lowfreq_checkpoint['model_state_dict'])"
   ]
  },
  {
   "cell_type": "code",
   "execution_count": 7,
   "id": "eb5fb9cc",
   "metadata": {},
   "outputs": [
    {
     "name": "stdout",
     "output_type": "stream",
     "text": [
      "current file: fs_0035_3T.pt\n",
      "Dimension of the current data file: t_ubd 18, slice_ubd 1, rep_ubd 1\n"
     ]
    }
   ],
   "source": [
    "tester = REINFORCE_tester(loader,model,\n",
    "                         fulldim=fulldim,\n",
    "                         base=base,\n",
    "                         budget=budget,\n",
    "                         save_dir=save_dir,\n",
    "                         unet=unet_lowfreq,\n",
    "                         rand_eval_unet=unet_rand,\n",
    "                         lowfreq_eval_unet=unet_lowfreq,\n",
    "                         infostr=infostr,\n",
    "                         device=device\n",
    "                         )"
   ]
  },
  {
   "cell_type": "code",
   "execution_count": 8,
   "id": "f26470fd",
   "metadata": {
    "scrolled": false
   },
   "outputs": [
    {
     "name": "stdout",
     "output_type": "stream",
     "text": [
      "file [1/10] rep [1/1] slice [1/1]\n",
      "current file: fs_0021_3T.pt\n",
      "Dimension of the current data file: t_ubd 22, slice_ubd 1, rep_ubd 1\n",
      "file [2/10] rep [1/1] slice [1/1]\n",
      "current file: fs_0074_1_5T.pt\n",
      "Dimension of the current data file: t_ubd 19, slice_ubd 12, rep_ubd 1\n",
      "file [3/10] rep [1/1] slice [1/12]\n",
      "current file: fs_0038_3T.pt\n",
      "Dimension of the current data file: t_ubd 16, slice_ubd 1, rep_ubd 1\n",
      "file [4/10] rep [1/1] slice [1/1]\n",
      "current file: fs_0023_3T.pt\n",
      "Dimension of the current data file: t_ubd 22, slice_ubd 1, rep_ubd 1\n",
      "file [5/10] rep [1/1] slice [1/1]\n",
      "current file: fs_0025_3T.pt\n",
      "Dimension of the current data file: t_ubd 27, slice_ubd 1, rep_ubd 1\n",
      "file [6/10] rep [1/1] slice [1/1]\n",
      "current file: fs_0060_1_5T.pt\n",
      "Dimension of the current data file: t_ubd 21, slice_ubd 12, rep_ubd 1\n",
      "file [7/10] rep [1/1] slice [1/12]\n",
      "current file: fs_0041_3T.pt\n",
      "Dimension of the current data file: t_ubd 18, slice_ubd 1, rep_ubd 1\n",
      "file [8/10] rep [1/1] slice [1/1]\n",
      "current file: fs_0042_3T.pt\n",
      "Dimension of the current data file: t_ubd 17, slice_ubd 1, rep_ubd 1\n",
      "file [9/10] rep [1/1] slice [1/1]\n",
      "current file: fs_0058_1_5T.pt\n",
      "Dimension of the current data file: t_ubd 22, slice_ubd 1, rep_ubd 1\n",
      "file [0/10] rep [1/1] slice [1/1]\n",
      "current file: fs_0035_3T.pt\n",
      "Dimension of the current data file: t_ubd 18, slice_ubd 1, rep_ubd 1\n",
      "~~ hist saved as Test_REINFORCE_hist_2023-05-08_base8_budget16_REINFORCE_test_magweg1.0_rwd1.pt at directory /home/ec2-user/SageMaker/RLsamp/output/~~\n"
     ]
    }
   ],
   "source": [
    "tester.run()"
   ]
  },
  {
   "cell_type": "code",
   "execution_count": null,
   "id": "cfa94cdb",
   "metadata": {},
   "outputs": [],
   "source": []
  }
 ],
 "metadata": {
  "kernelspec": {
   "display_name": "conda_pytorch_p39",
   "language": "python",
   "name": "conda_pytorch_p39"
  },
  "language_info": {
   "codemirror_mode": {
    "name": "ipython",
    "version": 3
   },
   "file_extension": ".py",
   "mimetype": "text/x-python",
   "name": "python",
   "nbconvert_exporter": "python",
   "pygments_lexer": "ipython3",
   "version": "3.9.15"
  }
 },
 "nbformat": 4,
 "nbformat_minor": 5
}
