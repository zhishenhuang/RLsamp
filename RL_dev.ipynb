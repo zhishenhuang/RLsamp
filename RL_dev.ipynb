{
 "cells": [
  {
   "cell_type": "code",
   "execution_count": 1,
   "id": "166eac3d",
   "metadata": {},
   "outputs": [
    {
     "data": {
      "text/html": [
       "<style>\n",
       ".container{width:85%}\n",
       "<style>\n"
      ],
      "text/plain": [
       "<IPython.core.display.HTML object>"
      ]
     },
     "metadata": {},
     "output_type": "display_data"
    }
   ],
   "source": [
    "%%html\n",
    "<style>\n",
    ".container{width:85%}\n",
    "<style>"
   ]
  },
  {
   "cell_type": "code",
   "execution_count": null,
   "id": "baa4965e",
   "metadata": {},
   "outputs": [],
   "source": [
    "!conda install -c frankong sigpy"
   ]
  },
  {
   "cell_type": "code",
   "execution_count": 2,
   "id": "6630bed1",
   "metadata": {},
   "outputs": [
    {
     "name": "stderr",
     "output_type": "stream",
     "text": [
      "<frozen importlib._bootstrap>:219: RuntimeWarning: numpy.ndarray size changed, may indicate binary incompatibility. Expected 80 from C header, got 96 from PyObject\n",
      "/home/ec2-user/anaconda3/envs/pytorch_p38/lib/python3.8/site-packages/h5py/__init__.py:36: DeprecationWarning: `np.typeDict` is a deprecated alias for `np.sctypeDict`.\n",
      "  from ._conv import register_converters as _register_converters\n"
     ]
    }
   ],
   "source": [
    "import RL_samp\n",
    "from RL_samp.header import *\n",
    "from RL_samp.utils import *\n",
    "from RL_samp.replay_buffer import *\n",
    "from RL_samp.models import poly_net, val_net\n",
    "from RL_samp.reconstructors import sigpy_solver\n",
    "from RL_samp.policies import DQN\n",
    "from RL_samp.trainers import DeepQL_trainer, AC1_ET_trainer\n",
    "\n",
    "from importlib import reload\n",
    "import matplotlib.pyplot as plt\n",
    "\n",
    "import torch.nn.functional as Func"
   ]
  },
  {
   "cell_type": "code",
   "execution_count": 12,
   "id": "72c734a5",
   "metadata": {},
   "outputs": [],
   "source": [
    "def mask_prob(imgs,fix=10,other=30,roll=True,fft_input=True):\n",
    "    '''\n",
    "    input imgs: [NCHW]\n",
    "    '''\n",
    "    fix   = int(fix)\n",
    "    other = int(other)\n",
    "    [N,C,_,sampdim] = imgs.shape\n",
    "    if not fft_input:\n",
    "        y = F.fftn(imgs,dim=(2,3),norm='ortho')\n",
    "    p = torch.sum(torch.abs(y),axis=(0,1,2))/(N*C)\n",
    "    fixInds  = np.concatenate((np.arange(0,round(fix//2) ),np.arange(sampdim-1,sampdim-1-round(fix/2),-1)))\n",
    "    p[fixInds] = 0\n",
    "    p = p/p.sum() # normalize probability vector\n",
    "    addInds  = np.random.choice(np.arange(sampdim),size=other,replace=False,p=p.numpy())\n",
    "    maskInds = np.concatenate((fixInds,addInds))\n",
    "    mask     = np.zeros(sampdim)\n",
    "    mask[maskInds]= 1\n",
    "    if roll:\n",
    "        mask = np.roll(mask,shift=sampdim//2,axis=0)\n",
    "    return mask"
   ]
  },
  {
   "cell_type": "code",
   "execution_count": 19,
   "id": "e7f134b7",
   "metadata": {},
   "outputs": [
    {
     "data": {
      "text/plain": [
       "array([1., 1., 1., 1., 1., 0., 0., 0., 0., 0., 0., 0., 0., 0., 0., 0., 1.,\n",
       "       1., 1., 0., 0., 0., 0., 0., 0., 0., 1., 0., 0., 1., 1., 0., 1., 0.,\n",
       "       0., 0., 0., 1., 0., 0., 0., 0., 1., 0., 0., 0., 0., 1., 1., 0., 0.,\n",
       "       0., 0., 1., 0., 0., 0., 0., 0., 1., 0., 0., 1., 0., 0., 1., 0., 1.,\n",
       "       1., 1., 0., 0., 0., 1., 0., 1., 0., 0., 0., 0., 0., 0., 1., 0., 0.,\n",
       "       0., 1., 0., 0., 0., 0., 0., 0., 0., 0., 0., 0., 0., 0., 0., 1., 0.,\n",
       "       1., 0., 0., 0., 1., 0., 0., 1., 0., 0., 0., 0., 0., 0., 1., 0., 1.,\n",
       "       0., 0., 0., 0., 0., 0., 1., 0., 0., 0., 0., 0., 0., 0., 1., 0., 0.,\n",
       "       0., 0., 0., 1., 1., 1., 1., 1.])"
      ]
     },
     "execution_count": 19,
     "metadata": {},
     "output_type": "execute_result"
    }
   ],
   "source": [
    "imgs = torch.abs(torch.randn(2,1,192,144))\n",
    "mask_prob(imgs, fft_input=False, roll=False)"
   ]
  },
  {
   "cell_type": "code",
   "execution_count": null,
   "id": "567448e4",
   "metadata": {},
   "outputs": [],
   "source": [
    "fs_dataloader = dataloader()"
   ]
  },
  {
   "cell_type": "code",
   "execution_count": null,
   "id": "5daf84c4",
   "metadata": {},
   "outputs": [],
   "source": [
    "fs_dataloader.load()"
   ]
  },
  {
   "cell_type": "code",
   "execution_count": null,
   "id": "56e75914",
   "metadata": {},
   "outputs": [],
   "source": [
    "datapath = '/mnt/shared_a/OCMR/OCMR_fully_sampled_images/'\n",
    "ncfiles = list([])\n",
    "for file in os.listdir(datapath):\n",
    "    if file.endswith(\".pt\"):\n",
    "        ncfiles.append(file)"
   ]
  },
  {
   "cell_type": "code",
   "execution_count": null,
   "id": "b1e7d14d",
   "metadata": {},
   "outputs": [],
   "source": [
    "loader.reset()\n",
    "iterMax = 2000\n",
    "for ind in range(iterMax):\n",
    "    loader.test()"
   ]
  },
  {
   "cell_type": "code",
   "execution_count": null,
   "id": "8b6ba958",
   "metadata": {},
   "outputs": [],
   "source": [
    "### DQN Parameter settings\n",
    "\n",
    "## image parameters\n",
    "heg = 192\n",
    "wid = 144\n",
    "\n",
    "## reconstructor parameters\n",
    "max_iter = 50\n",
    "L = 5e-3\n",
    "solver = 'ADMM'\n",
    "\n",
    "## trainer parameters\n",
    "discount    = .5\n",
    "memory_len  = 20\n",
    "t_backtrack = 3\n",
    "base        = 5\n",
    "budget      = 13\n",
    "episodes    = 1\n",
    "save_freq   = 10\n",
    "batch_size  = 2\n",
    "ngpu        = 1\n",
    "lr          = 1e-3\n",
    "eps         = 1e-3\n",
    "double_q    = False"
   ]
  },
  {
   "cell_type": "code",
   "execution_count": null,
   "id": "9a1dfd8c",
   "metadata": {},
   "outputs": [],
   "source": [
    "reload(RL_samp)\n",
    "import RL_samp\n",
    "import RL_samp.trainers\n",
    "from RL_samp.trainers import DeepQL_trainer\n"
   ]
  },
  {
   "cell_type": "code",
   "execution_count": null,
   "id": "573563ee",
   "metadata": {},
   "outputs": [],
   "source": [
    "loader  = ocmrLoader(ncfiles,batch_size=1,t_backtrack=t_backtrack)\n",
    "memory  = ReplayMemory(capacity=memory_len,\n",
    "                       curr_obs_shape=(t_backtrack,heg,wid),\n",
    "                       mask_shape=(wid),\n",
    "                       next_obs_shape=(1,heg,wid),\n",
    "                       batch_size=batch_size,\n",
    "                       burn_in=batch_size)\n",
    "model   = poly_net(samp_dim=wid)\n",
    "policy  = DQN(model,memory,max_iter=max_iter,ngpu=ngpu,gamma=discount,lr=lr,double_q_mode=double_q,\n",
    "              solver=solver,max_iter=max_iter,L=L)\n",
    "trainer = DeepQL_trainer(loader,policy,episodes=episodes,\n",
    "                         eps=eps,\n",
    "                         base=base,budget=budget,\n",
    "                         ngpu=ngpu)\n",
    "trainer.train()"
   ]
  },
  {
   "cell_type": "code",
   "execution_count": null,
   "id": "ad98f4fc",
   "metadata": {},
   "outputs": [],
   "source": [
    "### AC1 Parameter settings\n",
    "\n",
    "## image parameters\n",
    "heg = 192\n",
    "wid = 144\n",
    "\n",
    "## reconstructor parameters\n",
    "max_iter = 50\n",
    "L = 5e-3\n",
    "solver = 'ADMM'\n",
    "\n",
    "## trainer parameters\n",
    "discount    = .9\n",
    "t_backtrack = 3\n",
    "base        = 5\n",
    "budget      = 13\n",
    "episodes    = 1\n",
    "save_freq   = 10\n",
    "batch_size  = 2\n",
    "ngpu        = 0\n",
    "lr          = 1e-3\n",
    "eps         = 1e-3\n",
    "double_q    = False"
   ]
  },
  {
   "cell_type": "code",
   "execution_count": null,
   "id": "daded36b",
   "metadata": {},
   "outputs": [],
   "source": [
    "reload(RL_samp)\n",
    "import RL_samp\n",
    "from RL_samp.trainers import AC1_trainer"
   ]
  },
  {
   "cell_type": "code",
   "execution_count": null,
   "id": "14039f5d",
   "metadata": {
    "scrolled": false
   },
   "outputs": [],
   "source": [
    "loader  = ocmrLoader(ncfiles,batch_size=1,t_backtrack=t_backtrack)\n",
    "p_net   = poly_net(samp_dim=wid,softmax=True)\n",
    "v_net   = val_net()\n",
    "trainer = AC1_trainer(loader, polynet=p_net, valnet=v_net,\n",
    "                      base=base, budget=budget,\n",
    "                      gamma=discount,\n",
    "                      lr=lr,\n",
    "                      solver=solver, max_iter=max_iter, L=L,\n",
    "                      ngpu=ngpu)\n",
    "trainer.run()"
   ]
  },
  {
   "cell_type": "code",
   "execution_count": null,
   "id": "00214b35",
   "metadata": {},
   "outputs": [],
   "source": [
    "loader  = ocmrLoader(ncfiles,batch_size=1,t_backtrack=t_backtrack)\n",
    "p_net   = poly_net(samp_dim=wid,softmax=True)\n",
    "v_net   = val_net(slope=.5,scale=10)\n",
    "trainer = AC1_ET_trainer(loader, polynet=p_net, valnet=v_net,\n",
    "                      base=base, budget=budget,\n",
    "                      gamma=discount,\n",
    "                      solver=solver, max_iter=max_iter, L=L, reward_scale=9e2,\n",
    "                      ngpu=ngpu)"
   ]
  },
  {
   "cell_type": "code",
   "execution_count": null,
   "id": "37f020ec",
   "metadata": {
    "scrolled": false
   },
   "outputs": [],
   "source": [
    "trainer.run()"
   ]
  },
  {
   "cell_type": "code",
   "execution_count": null,
   "id": "1dde1a2d",
   "metadata": {},
   "outputs": [],
   "source": []
  },
  {
   "cell_type": "markdown",
   "id": "6fe3e762",
   "metadata": {},
   "source": [
    "## view training history"
   ]
  },
  {
   "cell_type": "code",
   "execution_count": null,
   "id": "c7715bac",
   "metadata": {
    "scrolled": false
   },
   "outputs": [],
   "source": [
    "hist_dir = '/home/huangz78/rl_samp/AC1_ET_hist_base5_budget13.pt'\n",
    "data = torch.load(hist_dir)"
   ]
  },
  {
   "cell_type": "code",
   "execution_count": null,
   "id": "d0b1c4cf",
   "metadata": {},
   "outputs": [],
   "source": [
    "hist = data['training_record']\n",
    "print(hist.keys())"
   ]
  },
  {
   "cell_type": "code",
   "execution_count": null,
   "id": "4a07bf9c",
   "metadata": {},
   "outputs": [],
   "source": [
    "rmse = np.array(hist['rmse_cmp'])"
   ]
  },
  {
   "cell_type": "code",
   "execution_count": null,
   "id": "a67da6f3",
   "metadata": {},
   "outputs": [],
   "source": [
    "plt.figure()\n",
    "plt.plot(rmse[:,0],label='AC1-ET')\n",
    "plt.plot(rmse[:,1],label='rand')\n",
    "plt.plot(rmse[:,2],label='low. freq.')\n",
    "plt.legend()\n",
    "plt.show()"
   ]
  },
  {
   "cell_type": "code",
   "execution_count": null,
   "id": "f8b7e555",
   "metadata": {},
   "outputs": [],
   "source": [
    "figsize = (12,13)\n",
    "keys = list(hist.keys())\n",
    "fig, axs = plt.subplots(nrows=2,ncols=3,figsize=figsize)\n",
    "\n",
    "axs[0,0].plot(hist['horizon_rewards'])\n",
    "axs[0,0].set_title('horizon_rewards')\n",
    "\n",
    "axs[0,1].plot(hist['poly_loss'])\n",
    "axs[0,1].set_title('loss - polynet')\n",
    "# axs[0,1].set_yscale('log')\n",
    "\n",
    "axs[0,2].plot(hist['val_loss'])\n",
    "axs[0,2].set_title('loss - valnet')\n",
    "# axs[0,2].set_yscale('log')\n",
    "\n",
    "axs[1,0].plot(hist['poly_grad_norm'])\n",
    "axs[1,0].set_title('poly_grad_norm')\n",
    "axs[1,0].set_yscale('log')\n",
    "\n",
    "axs[1,1].plot(hist['val_grad_norm'])\n",
    "axs[1,1].set_title('val_grad_norm')\n",
    "axs[1,1].set_yscale('log')\n",
    "\n",
    "axs[1,2].plot(hist['action_prob'])\n",
    "axs[1,2].set_title('action prob')\n",
    "\n",
    "plt.show()"
   ]
  },
  {
   "cell_type": "code",
   "execution_count": null,
   "id": "bea9b835",
   "metadata": {},
   "outputs": [],
   "source": [
    "hist_dir = '/home/huangz78/rl_samp/DQN_doubleQ_True_hist.pt'\n",
    "data = torch.load(hist_dir)\n",
    "hist = data['training_record']\n",
    "print(hist.keys())"
   ]
  },
  {
   "cell_type": "code",
   "execution_count": null,
   "id": "7aad7896",
   "metadata": {},
   "outputs": [],
   "source": [
    "figsize = (12,13)\n",
    "keys = list(hist.keys())\n",
    "fig, axs = plt.subplots(nrows=3,ncols=2,figsize=figsize)\n",
    "\n",
    "axs[0,0].plot(hist['horizon_rewards'])\n",
    "axs[0,0].set_title(keys[-1])\n",
    "\n",
    "# loss_hist = [hist['loss'][i].item() for i in range(len(hist['loss']))]\n",
    "axs[0,1].plot(hist['loss'])\n",
    "axs[0,1].set_title(keys[0])\n",
    "axs[0,1].set_yscale('log')\n",
    "\n",
    "axs[1,0].plot(hist['grad_norm'])\n",
    "axs[1,0].set_title(keys[1])\n",
    "axs[1,0].set_yscale('log')\n",
    "\n",
    "\n",
    "# q_values_mean_hist = [hist['q_values_mean'][i].item() for i in range(len(hist['q_values_mean']))]\n",
    "axs[1,1].plot(hist['q_values_mean'])\n",
    "axs[1,1].set_title(keys[2])\n",
    "\n",
    "# q_values_std_hist = [hist['q_values_std'][i].item() for i in range(len(hist['q_values_std']))]\n",
    "axs[2,0].plot(hist['q_values_std'])\n",
    "axs[2,0].set_title(keys[3])\n",
    "axs[2,0].set_yscale('log')\n",
    "\n",
    "axs[2,1].plot(hist['rmse'],label='DQN')\n",
    "axs[2,1].plot(hist['rmse_lowfreq'],label='low freq.')\n",
    "axs[2,1].plot(hist['rmse_rand'],'.',linewidth=.5,label='rand')\n",
    "axs[2,1].legend(loc='best')\n",
    "\n",
    "plt.show()"
   ]
  },
  {
   "cell_type": "code",
   "execution_count": null,
   "id": "4c1e9e39",
   "metadata": {},
   "outputs": [],
   "source": []
  }
 ],
 "metadata": {
  "kernelspec": {
   "display_name": "conda_pytorch_p38",
   "language": "python",
   "name": "conda_pytorch_p38"
  },
  "language_info": {
   "codemirror_mode": {
    "name": "ipython",
    "version": 3
   },
   "file_extension": ".py",
   "mimetype": "text/x-python",
   "name": "python",
   "nbconvert_exporter": "python",
   "pygments_lexer": "ipython3",
   "version": "3.8.12"
  }
 },
 "nbformat": 4,
 "nbformat_minor": 5
}
