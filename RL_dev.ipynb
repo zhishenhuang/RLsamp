{
 "cells": [
  {
   "cell_type": "code",
   "execution_count": 1,
   "id": "6630bed1",
   "metadata": {},
   "outputs": [
    {
     "name": "stderr",
     "output_type": "stream",
     "text": [
      "<frozen importlib._bootstrap>:228: RuntimeWarning: numpy.ndarray size changed, may indicate binary incompatibility. Expected 80 from C header, got 88 from PyObject\n",
      "/opt/anaconda/envs/pyenv/lib/python3.9/site-packages/h5py/__init__.py:46: DeprecationWarning: `np.typeDict` is a deprecated alias for `np.sctypeDict`.\n",
      "  from ._conv import register_converters as _register_converters\n"
     ]
    }
   ],
   "source": [
    "import RL_samp\n",
    "from RL_samp.header import *\n",
    "from RL_samp.utils import *\n",
    "from RL_samp.replay_buffer import *\n",
    "from RL_samp.models import poly_net, val_net\n",
    "from RL_samp.reconstructors import sigpy_solver\n",
    "from RL_samp.policies import DQN\n",
    "from RL_samp.trainers import DeepQL_trainer, AC1_ET_trainer\n",
    "\n",
    "from importlib import reload\n",
    "import matplotlib.pyplot as plt"
   ]
  },
  {
   "cell_type": "code",
   "execution_count": null,
   "id": "c334eceb",
   "metadata": {},
   "outputs": [],
   "source": [
    "import torch.nn.functional as Func"
   ]
  },
  {
   "cell_type": "code",
   "execution_count": 2,
   "id": "56e75914",
   "metadata": {},
   "outputs": [],
   "source": [
    "datapath = '/mnt/shared_a/OCMR/OCMR_fully_sampled_images/'\n",
    "ncfiles = list([])\n",
    "for file in os.listdir(datapath):\n",
    "    if file.endswith(\".pt\"):\n",
    "        ncfiles.append(file)"
   ]
  },
  {
   "cell_type": "code",
   "execution_count": null,
   "id": "b1e7d14d",
   "metadata": {},
   "outputs": [],
   "source": [
    "loader.reset()\n",
    "iterMax = 2000\n",
    "for ind in range(iterMax):\n",
    "    loader.test()"
   ]
  },
  {
   "cell_type": "code",
   "execution_count": 3,
   "id": "8b6ba958",
   "metadata": {},
   "outputs": [],
   "source": [
    "### DQN Parameter settings\n",
    "\n",
    "## image parameters\n",
    "heg = 192\n",
    "wid = 144\n",
    "\n",
    "## reconstructor parameters\n",
    "max_iter = 50\n",
    "L = 5e-3\n",
    "solver = 'ADMM'\n",
    "\n",
    "## trainer parameters\n",
    "discount    = .5\n",
    "memory_len  = 20\n",
    "t_backtrack = 3\n",
    "base        = 5\n",
    "budget      = 13\n",
    "episodes    = 1\n",
    "save_freq   = 10\n",
    "batch_size  = 2\n",
    "ngpu        = 1\n",
    "lr          = 1e-3\n",
    "eps         = 1e-3\n",
    "double_q    = False"
   ]
  },
  {
   "cell_type": "code",
   "execution_count": null,
   "id": "9a1dfd8c",
   "metadata": {},
   "outputs": [],
   "source": [
    "reload(RL_samp)\n",
    "import RL_samp\n",
    "import RL_samp.trainers\n",
    "from RL_samp.trainers import DeepQL_trainer\n"
   ]
  },
  {
   "cell_type": "code",
   "execution_count": null,
   "id": "573563ee",
   "metadata": {},
   "outputs": [],
   "source": [
    "loader  = ocmrLoader(ncfiles,batch_size=1,t_backtrack=t_backtrack)\n",
    "memory  = ReplayMemory(capacity=memory_len,\n",
    "                       curr_obs_shape=(t_backtrack,heg,wid),\n",
    "                       mask_shape=(wid),\n",
    "                       next_obs_shape=(1,heg,wid),\n",
    "                       batch_size=batch_size,\n",
    "                       burn_in=batch_size)\n",
    "model   = poly_net(samp_dim=wid)\n",
    "policy  = DQN(model,memory,max_iter=max_iter,ngpu=ngpu,gamma=discount,lr=lr,double_q_mode=double_q,\n",
    "              solver=solver,max_iter=max_iter,L=L)\n",
    "trainer = DeepQL_trainer(loader,policy,episodes=episodes,\n",
    "                         eps=eps,\n",
    "                         base=base,budget=budget,\n",
    "                         ngpu=ngpu)\n",
    "trainer.train()"
   ]
  },
  {
   "cell_type": "code",
   "execution_count": null,
   "id": "ad98f4fc",
   "metadata": {},
   "outputs": [],
   "source": [
    "### AC1 Parameter settings\n",
    "\n",
    "## image parameters\n",
    "heg = 192\n",
    "wid = 144\n",
    "\n",
    "## reconstructor parameters\n",
    "max_iter = 50\n",
    "L = 5e-3\n",
    "solver = 'ADMM'\n",
    "\n",
    "## trainer parameters\n",
    "discount    = .9\n",
    "t_backtrack = 3\n",
    "base        = 5\n",
    "budget      = 13\n",
    "episodes    = 1\n",
    "save_freq   = 10\n",
    "batch_size  = 2\n",
    "ngpu        = 0\n",
    "lr          = 1e-3\n",
    "eps         = 1e-3\n",
    "double_q    = False"
   ]
  },
  {
   "cell_type": "code",
   "execution_count": null,
   "id": "daded36b",
   "metadata": {},
   "outputs": [],
   "source": [
    "reload(RL_samp)\n",
    "import RL_samp\n",
    "from RL_samp.trainers import AC1_trainer"
   ]
  },
  {
   "cell_type": "code",
   "execution_count": null,
   "id": "14039f5d",
   "metadata": {
    "scrolled": false
   },
   "outputs": [],
   "source": [
    "loader  = ocmrLoader(ncfiles,batch_size=1,t_backtrack=t_backtrack)\n",
    "p_net   = poly_net(samp_dim=wid,softmax=True)\n",
    "v_net   = val_net()\n",
    "trainer = AC1_trainer(loader, polynet=p_net, valnet=v_net,\n",
    "                      base=base, budget=budget,\n",
    "                      gamma=discount,\n",
    "                      lr=lr,\n",
    "                      solver=solver, max_iter=max_iter, L=L,\n",
    "                      ngpu=ngpu)\n",
    "trainer.run()"
   ]
  },
  {
   "cell_type": "code",
   "execution_count": 16,
   "id": "00214b35",
   "metadata": {},
   "outputs": [
    {
     "name": "stdout",
     "output_type": "stream",
     "text": [
      "current file: fs_0074_1_5T.pt\n",
      "Dimension of the current data file: t_ubd 19, slice_ubd 12, rep_ubd 1\n"
     ]
    }
   ],
   "source": [
    "loader  = ocmrLoader(ncfiles,batch_size=1,t_backtrack=t_backtrack)\n",
    "p_net   = poly_net(samp_dim=wid,softmax=True)\n",
    "v_net   = val_net(slope=.5,scale=10)\n",
    "trainer = AC1_ET_trainer(loader, polynet=p_net, valnet=v_net,\n",
    "                      base=base, budget=budget,\n",
    "                      gamma=discount,\n",
    "                      solver=solver, max_iter=max_iter, L=L, reward_scale=9e2,\n",
    "                      ngpu=ngpu)"
   ]
  },
  {
   "cell_type": "code",
   "execution_count": 17,
   "id": "37f020ec",
   "metadata": {
    "scrolled": false
   },
   "outputs": [
    {
     "name": "stdout",
     "output_type": "stream",
     "text": [
      "epoch [1/100] file [1/43] rep [1/1] slice [1/12]\n",
      "> \u001b[0;32m/home/huangz78/rl_samp/RL_samp/trainers.py\u001b[0m(567)\u001b[0;36mrun\u001b[0;34m()\u001b[0m\n",
      "\u001b[0;32m    565 \u001b[0;31m                    \u001b[0mvnew\u001b[0m  \u001b[0;34m=\u001b[0m \u001b[0mself\u001b[0m\u001b[0;34m.\u001b[0m\u001b[0mvalnet\u001b[0m\u001b[0;34m(\u001b[0m\u001b[0mnext_obs\u001b[0m\u001b[0;34m)\u001b[0m \u001b[0;32mif\u001b[0m \u001b[0mt\u001b[0m\u001b[0;34m<\u001b[0m\u001b[0mself\u001b[0m\u001b[0;34m.\u001b[0m\u001b[0mhorizon\u001b[0m\u001b[0;34m-\u001b[0m\u001b[0;36m1\u001b[0m \u001b[0;32melse\u001b[0m \u001b[0;36m0\u001b[0m\u001b[0;34m\u001b[0m\u001b[0;34m\u001b[0m\u001b[0m\n",
      "\u001b[0m\u001b[0;32m    566 \u001b[0;31m                    \u001b[0mbreakpoint\u001b[0m\u001b[0;34m(\u001b[0m\u001b[0;34m)\u001b[0m\u001b[0;34m\u001b[0m\u001b[0;34m\u001b[0m\u001b[0m\n",
      "\u001b[0m\u001b[0;32m--> 567 \u001b[0;31m                    \u001b[0mdelta\u001b[0m \u001b[0;34m=\u001b[0m \u001b[0mreward\u001b[0m \u001b[0;34m+\u001b[0m \u001b[0mself\u001b[0m\u001b[0;34m.\u001b[0m\u001b[0mgamma\u001b[0m \u001b[0;34m*\u001b[0m \u001b[0mvnew\u001b[0m  \u001b[0;34m-\u001b[0m \u001b[0mv\u001b[0m \u001b[0;31m# should check if delta == 0\u001b[0m\u001b[0;34m\u001b[0m\u001b[0;34m\u001b[0m\u001b[0m\n",
      "\u001b[0m\u001b[0;32m    568 \u001b[0;31m                    \u001b[0mprint\u001b[0m\u001b[0;34m(\u001b[0m\u001b[0;34mf'step {self.steps}, delta {delta.item()}'\u001b[0m\u001b[0;34m)\u001b[0m\u001b[0;34m\u001b[0m\u001b[0;34m\u001b[0m\u001b[0m\n",
      "\u001b[0m\u001b[0;32m    569 \u001b[0;31m                \u001b[0mself\u001b[0m\u001b[0;34m.\u001b[0m\u001b[0moptimizer_val\u001b[0m\u001b[0;34m.\u001b[0m\u001b[0mzero_grad\u001b[0m\u001b[0;34m(\u001b[0m\u001b[0;34m)\u001b[0m\u001b[0;34m\u001b[0m\u001b[0;34m\u001b[0m\u001b[0m\n",
      "\u001b[0m\n",
      "ipdb> p reward\n",
      "tensor(-0.3221)\n",
      "ipdb> p vnew\n",
      "tensor([[0.2198]], device='cuda:0')\n",
      "ipdb> p v\n",
      "tensor([[0.2194]], device='cuda:0', grad_fn=<MulBackward0>)\n",
      "ipdb> q\n"
     ]
    },
    {
     "ename": "BdbQuit",
     "evalue": "",
     "output_type": "error",
     "traceback": [
      "\u001b[0;31m---------------------------------------------------------------------------\u001b[0m",
      "\u001b[0;31mBdbQuit\u001b[0m                                   Traceback (most recent call last)",
      "\u001b[0;32m/tmp/ipykernel_1646337/3609282671.py\u001b[0m in \u001b[0;36m<module>\u001b[0;34m\u001b[0m\n\u001b[0;32m----> 1\u001b[0;31m \u001b[0mtrainer\u001b[0m\u001b[0;34m.\u001b[0m\u001b[0mrun\u001b[0m\u001b[0;34m(\u001b[0m\u001b[0;34m)\u001b[0m\u001b[0;34m\u001b[0m\u001b[0;34m\u001b[0m\u001b[0m\n\u001b[0m",
      "\u001b[0;32m~/rl_samp/RL_samp/trainers.py\u001b[0m in \u001b[0;36mrun\u001b[0;34m(self)\u001b[0m\n\u001b[1;32m    565\u001b[0m                     \u001b[0mvnew\u001b[0m  \u001b[0;34m=\u001b[0m \u001b[0mself\u001b[0m\u001b[0;34m.\u001b[0m\u001b[0mvalnet\u001b[0m\u001b[0;34m(\u001b[0m\u001b[0mnext_obs\u001b[0m\u001b[0;34m)\u001b[0m \u001b[0;32mif\u001b[0m \u001b[0mt\u001b[0m\u001b[0;34m<\u001b[0m\u001b[0mself\u001b[0m\u001b[0;34m.\u001b[0m\u001b[0mhorizon\u001b[0m\u001b[0;34m-\u001b[0m\u001b[0;36m1\u001b[0m \u001b[0;32melse\u001b[0m \u001b[0;36m0\u001b[0m\u001b[0;34m\u001b[0m\u001b[0;34m\u001b[0m\u001b[0m\n\u001b[1;32m    566\u001b[0m                     \u001b[0mbreakpoint\u001b[0m\u001b[0;34m(\u001b[0m\u001b[0;34m)\u001b[0m\u001b[0;34m\u001b[0m\u001b[0;34m\u001b[0m\u001b[0m\n\u001b[0;32m--> 567\u001b[0;31m                     \u001b[0mdelta\u001b[0m \u001b[0;34m=\u001b[0m \u001b[0mreward\u001b[0m \u001b[0;34m+\u001b[0m \u001b[0mself\u001b[0m\u001b[0;34m.\u001b[0m\u001b[0mgamma\u001b[0m \u001b[0;34m*\u001b[0m \u001b[0mvnew\u001b[0m  \u001b[0;34m-\u001b[0m \u001b[0mv\u001b[0m \u001b[0;31m# should check if delta == 0\u001b[0m\u001b[0;34m\u001b[0m\u001b[0;34m\u001b[0m\u001b[0m\n\u001b[0m\u001b[1;32m    568\u001b[0m                     \u001b[0mprint\u001b[0m\u001b[0;34m(\u001b[0m\u001b[0;34mf'step {self.steps}, delta {delta.item()}'\u001b[0m\u001b[0;34m)\u001b[0m\u001b[0;34m\u001b[0m\u001b[0;34m\u001b[0m\u001b[0m\n\u001b[1;32m    569\u001b[0m                 \u001b[0mself\u001b[0m\u001b[0;34m.\u001b[0m\u001b[0moptimizer_val\u001b[0m\u001b[0;34m.\u001b[0m\u001b[0mzero_grad\u001b[0m\u001b[0;34m(\u001b[0m\u001b[0;34m)\u001b[0m\u001b[0;34m\u001b[0m\u001b[0;34m\u001b[0m\u001b[0m\n",
      "\u001b[0;32m~/rl_samp/RL_samp/trainers.py\u001b[0m in \u001b[0;36mrun\u001b[0;34m(self)\u001b[0m\n\u001b[1;32m    565\u001b[0m                     \u001b[0mvnew\u001b[0m  \u001b[0;34m=\u001b[0m \u001b[0mself\u001b[0m\u001b[0;34m.\u001b[0m\u001b[0mvalnet\u001b[0m\u001b[0;34m(\u001b[0m\u001b[0mnext_obs\u001b[0m\u001b[0;34m)\u001b[0m \u001b[0;32mif\u001b[0m \u001b[0mt\u001b[0m\u001b[0;34m<\u001b[0m\u001b[0mself\u001b[0m\u001b[0;34m.\u001b[0m\u001b[0mhorizon\u001b[0m\u001b[0;34m-\u001b[0m\u001b[0;36m1\u001b[0m \u001b[0;32melse\u001b[0m \u001b[0;36m0\u001b[0m\u001b[0;34m\u001b[0m\u001b[0;34m\u001b[0m\u001b[0m\n\u001b[1;32m    566\u001b[0m                     \u001b[0mbreakpoint\u001b[0m\u001b[0;34m(\u001b[0m\u001b[0;34m)\u001b[0m\u001b[0;34m\u001b[0m\u001b[0;34m\u001b[0m\u001b[0m\n\u001b[0;32m--> 567\u001b[0;31m                     \u001b[0mdelta\u001b[0m \u001b[0;34m=\u001b[0m \u001b[0mreward\u001b[0m \u001b[0;34m+\u001b[0m \u001b[0mself\u001b[0m\u001b[0;34m.\u001b[0m\u001b[0mgamma\u001b[0m \u001b[0;34m*\u001b[0m \u001b[0mvnew\u001b[0m  \u001b[0;34m-\u001b[0m \u001b[0mv\u001b[0m \u001b[0;31m# should check if delta == 0\u001b[0m\u001b[0;34m\u001b[0m\u001b[0;34m\u001b[0m\u001b[0m\n\u001b[0m\u001b[1;32m    568\u001b[0m                     \u001b[0mprint\u001b[0m\u001b[0;34m(\u001b[0m\u001b[0;34mf'step {self.steps}, delta {delta.item()}'\u001b[0m\u001b[0;34m)\u001b[0m\u001b[0;34m\u001b[0m\u001b[0;34m\u001b[0m\u001b[0m\n\u001b[1;32m    569\u001b[0m                 \u001b[0mself\u001b[0m\u001b[0;34m.\u001b[0m\u001b[0moptimizer_val\u001b[0m\u001b[0;34m.\u001b[0m\u001b[0mzero_grad\u001b[0m\u001b[0;34m(\u001b[0m\u001b[0;34m)\u001b[0m\u001b[0;34m\u001b[0m\u001b[0;34m\u001b[0m\u001b[0m\n",
      "\u001b[0;32m/opt/anaconda/envs/pyenv/lib/python3.9/bdb.py\u001b[0m in \u001b[0;36mtrace_dispatch\u001b[0;34m(self, frame, event, arg)\u001b[0m\n\u001b[1;32m     86\u001b[0m             \u001b[0;32mreturn\u001b[0m \u001b[0;31m# None\u001b[0m\u001b[0;34m\u001b[0m\u001b[0;34m\u001b[0m\u001b[0m\n\u001b[1;32m     87\u001b[0m         \u001b[0;32mif\u001b[0m \u001b[0mevent\u001b[0m \u001b[0;34m==\u001b[0m \u001b[0;34m'line'\u001b[0m\u001b[0;34m:\u001b[0m\u001b[0;34m\u001b[0m\u001b[0;34m\u001b[0m\u001b[0m\n\u001b[0;32m---> 88\u001b[0;31m             \u001b[0;32mreturn\u001b[0m \u001b[0mself\u001b[0m\u001b[0;34m.\u001b[0m\u001b[0mdispatch_line\u001b[0m\u001b[0;34m(\u001b[0m\u001b[0mframe\u001b[0m\u001b[0;34m)\u001b[0m\u001b[0;34m\u001b[0m\u001b[0;34m\u001b[0m\u001b[0m\n\u001b[0m\u001b[1;32m     89\u001b[0m         \u001b[0;32mif\u001b[0m \u001b[0mevent\u001b[0m \u001b[0;34m==\u001b[0m \u001b[0;34m'call'\u001b[0m\u001b[0;34m:\u001b[0m\u001b[0;34m\u001b[0m\u001b[0;34m\u001b[0m\u001b[0m\n\u001b[1;32m     90\u001b[0m             \u001b[0;32mreturn\u001b[0m \u001b[0mself\u001b[0m\u001b[0;34m.\u001b[0m\u001b[0mdispatch_call\u001b[0m\u001b[0;34m(\u001b[0m\u001b[0mframe\u001b[0m\u001b[0;34m,\u001b[0m \u001b[0marg\u001b[0m\u001b[0;34m)\u001b[0m\u001b[0;34m\u001b[0m\u001b[0;34m\u001b[0m\u001b[0m\n",
      "\u001b[0;32m/opt/anaconda/envs/pyenv/lib/python3.9/bdb.py\u001b[0m in \u001b[0;36mdispatch_line\u001b[0;34m(self, frame)\u001b[0m\n\u001b[1;32m    111\u001b[0m         \u001b[0;32mif\u001b[0m \u001b[0mself\u001b[0m\u001b[0;34m.\u001b[0m\u001b[0mstop_here\u001b[0m\u001b[0;34m(\u001b[0m\u001b[0mframe\u001b[0m\u001b[0;34m)\u001b[0m \u001b[0;32mor\u001b[0m \u001b[0mself\u001b[0m\u001b[0;34m.\u001b[0m\u001b[0mbreak_here\u001b[0m\u001b[0;34m(\u001b[0m\u001b[0mframe\u001b[0m\u001b[0;34m)\u001b[0m\u001b[0;34m:\u001b[0m\u001b[0;34m\u001b[0m\u001b[0;34m\u001b[0m\u001b[0m\n\u001b[1;32m    112\u001b[0m             \u001b[0mself\u001b[0m\u001b[0;34m.\u001b[0m\u001b[0muser_line\u001b[0m\u001b[0;34m(\u001b[0m\u001b[0mframe\u001b[0m\u001b[0;34m)\u001b[0m\u001b[0;34m\u001b[0m\u001b[0;34m\u001b[0m\u001b[0m\n\u001b[0;32m--> 113\u001b[0;31m             \u001b[0;32mif\u001b[0m \u001b[0mself\u001b[0m\u001b[0;34m.\u001b[0m\u001b[0mquitting\u001b[0m\u001b[0;34m:\u001b[0m \u001b[0;32mraise\u001b[0m \u001b[0mBdbQuit\u001b[0m\u001b[0;34m\u001b[0m\u001b[0;34m\u001b[0m\u001b[0m\n\u001b[0m\u001b[1;32m    114\u001b[0m         \u001b[0;32mreturn\u001b[0m \u001b[0mself\u001b[0m\u001b[0;34m.\u001b[0m\u001b[0mtrace_dispatch\u001b[0m\u001b[0;34m\u001b[0m\u001b[0;34m\u001b[0m\u001b[0m\n\u001b[1;32m    115\u001b[0m \u001b[0;34m\u001b[0m\u001b[0m\n",
      "\u001b[0;31mBdbQuit\u001b[0m: "
     ]
    }
   ],
   "source": [
    "trainer.run()"
   ]
  },
  {
   "cell_type": "code",
   "execution_count": null,
   "id": "1dde1a2d",
   "metadata": {},
   "outputs": [],
   "source": []
  },
  {
   "cell_type": "markdown",
   "id": "6fe3e762",
   "metadata": {},
   "source": [
    "## view training history"
   ]
  },
  {
   "cell_type": "code",
   "execution_count": null,
   "id": "c7715bac",
   "metadata": {
    "scrolled": false
   },
   "outputs": [],
   "source": [
    "hist_dir = '/home/huangz78/rl_samp/AC1_ET_hist_base5_budget13.pt'\n",
    "data = torch.load(hist_dir)"
   ]
  },
  {
   "cell_type": "code",
   "execution_count": null,
   "id": "d0b1c4cf",
   "metadata": {},
   "outputs": [],
   "source": [
    "hist = data['training_record']\n",
    "print(hist.keys())"
   ]
  },
  {
   "cell_type": "code",
   "execution_count": null,
   "id": "4a07bf9c",
   "metadata": {},
   "outputs": [],
   "source": [
    "rmse = np.array(hist['rmse_cmp'])"
   ]
  },
  {
   "cell_type": "code",
   "execution_count": null,
   "id": "a67da6f3",
   "metadata": {},
   "outputs": [],
   "source": [
    "plt.figure()\n",
    "plt.plot(rmse[:,0],label='AC1-ET')\n",
    "plt.plot(rmse[:,1],label='rand')\n",
    "plt.plot(rmse[:,2],label='low. freq.')\n",
    "plt.legend()\n",
    "plt.show()"
   ]
  },
  {
   "cell_type": "code",
   "execution_count": null,
   "id": "f8b7e555",
   "metadata": {},
   "outputs": [],
   "source": [
    "figsize = (12,13)\n",
    "keys = list(hist.keys())\n",
    "fig, axs = plt.subplots(nrows=2,ncols=3,figsize=figsize)\n",
    "\n",
    "axs[0,0].plot(hist['horizon_rewards'])\n",
    "axs[0,0].set_title('horizon_rewards')\n",
    "\n",
    "axs[0,1].plot(hist['poly_loss'])\n",
    "axs[0,1].set_title('loss - polynet')\n",
    "# axs[0,1].set_yscale('log')\n",
    "\n",
    "axs[0,2].plot(hist['val_loss'])\n",
    "axs[0,2].set_title('loss - valnet')\n",
    "# axs[0,2].set_yscale('log')\n",
    "\n",
    "axs[1,0].plot(hist['poly_grad_norm'])\n",
    "axs[1,0].set_title('poly_grad_norm')\n",
    "axs[1,0].set_yscale('log')\n",
    "\n",
    "axs[1,1].plot(hist['val_grad_norm'])\n",
    "axs[1,1].set_title('val_grad_norm')\n",
    "axs[1,1].set_yscale('log')\n",
    "\n",
    "axs[1,2].plot(hist['action_prob'])\n",
    "axs[1,2].set_title('action prob')\n",
    "\n",
    "plt.show()"
   ]
  },
  {
   "cell_type": "code",
   "execution_count": null,
   "id": "bea9b835",
   "metadata": {},
   "outputs": [],
   "source": [
    "hist_dir = '/home/huangz78/rl_samp/DQN_doubleQ_True_hist.pt'\n",
    "data = torch.load(hist_dir)\n",
    "hist = data['training_record']\n",
    "print(hist.keys())"
   ]
  },
  {
   "cell_type": "code",
   "execution_count": null,
   "id": "7aad7896",
   "metadata": {},
   "outputs": [],
   "source": [
    "figsize = (12,13)\n",
    "keys = list(hist.keys())\n",
    "fig, axs = plt.subplots(nrows=3,ncols=2,figsize=figsize)\n",
    "\n",
    "axs[0,0].plot(hist['horizon_rewards'])\n",
    "axs[0,0].set_title(keys[-1])\n",
    "\n",
    "# loss_hist = [hist['loss'][i].item() for i in range(len(hist['loss']))]\n",
    "axs[0,1].plot(hist['loss'])\n",
    "axs[0,1].set_title(keys[0])\n",
    "axs[0,1].set_yscale('log')\n",
    "\n",
    "axs[1,0].plot(hist['grad_norm'])\n",
    "axs[1,0].set_title(keys[1])\n",
    "axs[1,0].set_yscale('log')\n",
    "\n",
    "\n",
    "# q_values_mean_hist = [hist['q_values_mean'][i].item() for i in range(len(hist['q_values_mean']))]\n",
    "axs[1,1].plot(hist['q_values_mean'])\n",
    "axs[1,1].set_title(keys[2])\n",
    "\n",
    "# q_values_std_hist = [hist['q_values_std'][i].item() for i in range(len(hist['q_values_std']))]\n",
    "axs[2,0].plot(hist['q_values_std'])\n",
    "axs[2,0].set_title(keys[3])\n",
    "axs[2,0].set_yscale('log')\n",
    "\n",
    "axs[2,1].plot(hist['rmse'],label='DQN')\n",
    "axs[2,1].plot(hist['rmse_lowfreq'],label='low freq.')\n",
    "axs[2,1].plot(hist['rmse_rand'],'.',linewidth=.5,label='rand')\n",
    "axs[2,1].legend(loc='best')\n",
    "\n",
    "plt.show()"
   ]
  },
  {
   "cell_type": "code",
   "execution_count": null,
   "id": "4c1e9e39",
   "metadata": {},
   "outputs": [],
   "source": []
  }
 ],
 "metadata": {
  "kernelspec": {
   "display_name": "Python 3 (ipykernel)",
   "language": "python",
   "name": "python3"
  },
  "language_info": {
   "codemirror_mode": {
    "name": "ipython",
    "version": 3
   },
   "file_extension": ".py",
   "mimetype": "text/x-python",
   "name": "python",
   "nbconvert_exporter": "python",
   "pygments_lexer": "ipython3",
   "version": "3.9.12"
  }
 },
 "nbformat": 4,
 "nbformat_minor": 5
}
