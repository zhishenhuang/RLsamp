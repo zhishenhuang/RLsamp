{
 "cells": [
  {
   "cell_type": "code",
   "execution_count": 2,
   "id": "0f5514a8",
   "metadata": {},
   "outputs": [],
   "source": [
    "# import gym\n",
    "from header import *\n",
    "from utils import *\n",
    "from replay_buffer import *\n",
    "from models import poly_net\n",
    "from reconstructors import sigpy_solver\n",
    "# from dqn import DQN\n",
    "from importlib import reload\n",
    "import os\n",
    "heg = 192\n",
    "wid = 144"
   ]
  },
  {
   "cell_type": "markdown",
   "id": "3f969222",
   "metadata": {},
   "source": [
    "## data loader"
   ]
  },
  {
   "cell_type": "code",
   "execution_count": 3,
   "id": "c7e177fb",
   "metadata": {},
   "outputs": [],
   "source": [
    "datapath = '/mnt/shared_a/OCMR/OCMR_fully_sampled_images/'\n",
    "ncfiles = list([])\n",
    "for file in os.listdir(datapath):\n",
    "    if file.endswith(\".pt\"):\n",
    "        ncfiles.append(file)\n",
    "loader = ocmrLoader(ncfiles)"
   ]
  },
  {
   "cell_type": "code",
   "execution_count": null,
   "id": "bbec43cf",
   "metadata": {},
   "outputs": [],
   "source": [
    "torch.load(datapath + ncfiles[0]).shape"
   ]
  },
  {
   "cell_type": "code",
   "execution_count": null,
   "id": "ec86eb35",
   "metadata": {
    "scrolled": true
   },
   "outputs": [],
   "source": [
    "img = loader.load(batch_size=1)[0]\n",
    "print(img.shape)"
   ]
  },
  {
   "cell_type": "code",
   "execution_count": null,
   "id": "e4fe9f98",
   "metadata": {},
   "outputs": [],
   "source": [
    "loader.load(batch_size=1)[1]"
   ]
  },
  {
   "cell_type": "markdown",
   "id": "e50eb527",
   "metadata": {},
   "source": [
    "## Net and reconstructor preparation"
   ]
  },
  {
   "cell_type": "code",
   "execution_count": null,
   "id": "6304ae52",
   "metadata": {},
   "outputs": [],
   "source": [
    "import models\n",
    "reload(models)\n",
    "from models import poly_net"
   ]
  },
  {
   "cell_type": "code",
   "execution_count": null,
   "id": "42dfd140",
   "metadata": {},
   "outputs": [],
   "source": [
    "net = poly_net(samp_dim=144)\n",
    "net"
   ]
  },
  {
   "cell_type": "code",
   "execution_count": null,
   "id": "887ad8f5",
   "metadata": {
    "scrolled": true
   },
   "outputs": [],
   "source": [
    "img = torch.rand(2,3,193,144)\n",
    "net(img).shape"
   ]
  },
  {
   "cell_type": "code",
   "execution_count": null,
   "id": "b8cc6b8a",
   "metadata": {},
   "outputs": [],
   "source": [
    "plt.figure()\n",
    "plt.imshow(img[0][0],origin='lower')\n",
    "plt.colorbar()\n",
    "plt.show()"
   ]
  },
  {
   "cell_type": "code",
   "execution_count": null,
   "id": "2933c928",
   "metadata": {},
   "outputs": [],
   "source": [
    "lowfreqmask.shape"
   ]
  },
  {
   "cell_type": "code",
   "execution_count": null,
   "id": "c74b7e63",
   "metadata": {
    "scrolled": true
   },
   "outputs": [],
   "source": [
    "lowfreqmask,_,_ = mask_naiveRand(144,fix=10,other=4,roll=False)\n",
    "img_crude       = fft_observe(img,lowfreqmask)\n",
    "plt.figure()\n",
    "plt.imshow(img_crude[0][0],origin='lower')\n",
    "plt.colorbar()\n",
    "plt.show()\n",
    "print(f'error = { (torch.norm(img_crude[0][0]-img[0][0])/torch.norm(img[0][0])).item():.4f}')"
   ]
  },
  {
   "cell_type": "code",
   "execution_count": null,
   "id": "87a225f0",
   "metadata": {
    "scrolled": true
   },
   "outputs": [],
   "source": [
    "kin = fft_observe(img,lowfreqmask,return_opt='freq')\n",
    "plt.figure()\n",
    "plt.imshow(torch.log(torch.abs(kin[0][0])),origin='lower')\n",
    "plt.colorbar()\n",
    "plt.show()"
   ]
  },
  {
   "cell_type": "code",
   "execution_count": null,
   "id": "3cffaaa8",
   "metadata": {},
   "outputs": [],
   "source": []
  },
  {
   "cell_type": "code",
   "execution_count": null,
   "id": "005c766f",
   "metadata": {
    "scrolled": true
   },
   "outputs": [],
   "source": [
    "x_sigpy = sigpy_solver(kin[:,0:1,:,:],L=5e-3,solver='ADMM')\n",
    "plt.figure()\n",
    "plt.imshow(x_sigpy[0,0,:,:],origin='lower')\n",
    "plt.colorbar()\n",
    "plt.show()\n",
    "\n",
    "plt.figure()\n",
    "plt.imshow(img[0][0],origin='lower')\n",
    "plt.colorbar()\n",
    "plt.show()\n",
    "err = torch.norm(x_sigpy[0,0,:,:]-img[0][0],p='fro')/torch.norm(img[0][0],p='fro')\n",
    "print(f'error = { err.item():.4f}')"
   ]
  },
  {
   "cell_type": "markdown",
   "id": "f3b61741",
   "metadata": {},
   "source": [
    "## learning with memory replay"
   ]
  },
  {
   "cell_type": "code",
   "execution_count": null,
   "id": "9ff2a1ad",
   "metadata": {},
   "outputs": [],
   "source": [
    "dim = 100\n",
    "mask = torch.zeros(dim)\n",
    "mask[np.random.permutation(dim)[0:60]] = 1\n",
    "(mask==0).nonzero(as_tuple=True)[0]"
   ]
  },
  {
   "cell_type": "code",
   "execution_count": null,
   "id": "b9adaba6",
   "metadata": {},
   "outputs": [],
   "source": [
    "a = torch.randn((2,1))\n",
    "a.mean().item()"
   ]
  },
  {
   "cell_type": "code",
   "execution_count": null,
   "id": "8d2ab1a8",
   "metadata": {},
   "outputs": [],
   "source": [
    "class RL_trainer():\n",
    "    def __init__(self,dataloader,policy,memory,episodes:int=10,eps:float=1e-3,\n",
    "                 fulldim:int=144,base:int=10,budget:int=50):\n",
    "        self.dataloader = dataloader\n",
    "        self.dataloader.reset()\n",
    "        \n",
    "        self.policy   = policy\n",
    "        self.memory   = memory\n",
    "        self.episodes = episodes\n",
    "        self.epi = 0\n",
    "        self.fulldim = fulldim\n",
    "        self.base = base\n",
    "        self.budget = budget\n",
    "        self.eps = eps\n",
    "        self.training_record = {'loss':[],'grad_norm':[],'q_values_mean':[],'q_values_std':[]}\n",
    "        self.steps = 1\n",
    "    def train(self):      \n",
    "        # run training\n",
    "        while self.epi < self.episodes:\n",
    "            print(f'episode {self.epi:.3d} / {self.episodes}')\n",
    "            mask = mask_naiveRand(self.fulldim,fix=self.base,other=0,roll=False)   # one mask at a time\n",
    "            while mask.sum() < self.budget + self.base:\n",
    "                data_source, data_target = self.dataloader.load()\n",
    "#                 epsilon = _get_epsilon(steps_epsilon, self.options)\n",
    "                curr_obs = fft_observe(data_source,mask)\n",
    "                action   = self.policy.get_action(data_source, mask=mask, eps_threshold=self.eps)\n",
    "                next_obs, reward = self.policy.step(action, data_target, mask)\n",
    "                self.memory.push(curr_obs, action, next_obs, reward)\n",
    "                \n",
    "                ### compare with random policy\n",
    "                with torch.no_grad():\n",
    "                    action_rand = self.policy.get_rand_action(mask=mask)\n",
    "                    _, reward_rand = self.policy.step(action_rand, data_target, mask)\n",
    "                ########################################################################\n",
    "                update_results = self.policy.update_parameters()\n",
    "                if update_results is not None:\n",
    "                    for key in self.training_record.keys():\n",
    "                        self.training_record[key].append(update_results[key])\n",
    "                    curr_loss = update_results['loss']\n",
    "                    print(f'step: {self.steps:5d}, loss: {curr_loss:.4f}, RL reward: {reward.mean().item():.4f}, Rand reward: {reward_rand.mean().item():.4f}')\n",
    "                    torch.cuda.empty_cache()\n",
    "                self.steps += 1\n",
    "#                 if self.steps % self.options.target_net_update_freq == 0:\n",
    "#                     self.logger.info(\"Updating target network.\")\n",
    "#                     self.target_net.load_state_dict(self.policy.state_dict())\n",
    "            self.dataloader.reset()\n",
    "            self.epi += 1"
   ]
  },
  {
   "cell_type": "code",
   "execution_count": null,
   "id": "7b96adb2",
   "metadata": {},
   "outputs": [],
   "source": [
    "import dqn\n",
    "reload(dqn)\n",
    "from dqn import DQN\n",
    "\n",
    "import replay_buffer\n",
    "reload(replay_buffer)\n",
    "from replay_buffer import *"
   ]
  },
  {
   "cell_type": "code",
   "execution_count": null,
   "id": "4c3952da",
   "metadata": {},
   "outputs": [],
   "source": [
    "memory = ReplayMemory(capacity=10,curr_obs_shape=(3,192,144),next_obs_shape=(1,192,144),batch_size=2,burn_in=2)\n",
    "model  = poly_net(samp_dim=144)\n",
    "policy = DQN(model,memory)\n",
    "trainer = RL_trainer(loader,policy,memory)"
   ]
  },
  {
   "cell_type": "code",
   "execution_count": null,
   "id": "c1bc697b",
   "metadata": {
    "scrolled": true
   },
   "outputs": [],
   "source": [
    "trainer.train()"
   ]
  },
  {
   "cell_type": "markdown",
   "id": "e2efb434",
   "metadata": {},
   "source": [
    "## view data"
   ]
  },
  {
   "cell_type": "code",
   "execution_count": null,
   "id": "97b4f1bb",
   "metadata": {},
   "outputs": [],
   "source": [
    "'''\n",
    "[kx, ky, kz, coil, phase, set, slice, rep, avg], \n",
    "frequency encoding, first phase encoding, second phase encoding, \n",
    "coil, phase (time), set (velocity encoding), slice, repetition, and number of averages\n",
    "\n",
    "better not to take average over the repetition dimension\n",
    "'''"
   ]
  },
  {
   "cell_type": "code",
   "execution_count": 4,
   "id": "e220a3fa",
   "metadata": {},
   "outputs": [
    {
     "name": "stdout",
     "output_type": "stream",
     "text": [
      "74\n"
     ]
    }
   ],
   "source": [
    "datapath = '/mnt/shared_a/OCMR/OCMR_data_fully_sampled/'\n",
    "h5files = list([])\n",
    "for file in os.listdir(datapath):\n",
    "    if file.endswith(\".h5\"):\n",
    "        h5files.append(file)\n",
    "print(len(h5files))"
   ]
  },
  {
   "cell_type": "code",
   "execution_count": null,
   "id": "f8765121",
   "metadata": {
    "scrolled": true
   },
   "outputs": [],
   "source": [
    "regular_files = []\n",
    "for file in h5files:\n",
    "    kData,param = read.read_ocmr(datapath+file)\n",
    "    print('filename', file, 'Dimension of kData: ', kData.shape)\n",
    "    curr_shape = kData.shape\n",
    "    if curr_shape[0]==384 and curr_shape[1]==144:\n",
    "        regular_files.append([file, curr_shape])\n",
    "#     print('Scan paramters:')\n",
    "#     pprint.pprint(param)"
   ]
  },
  {
   "cell_type": "code",
   "execution_count": 5,
   "id": "83bfd6fe",
   "metadata": {},
   "outputs": [],
   "source": [
    "path = '/home/huangz78/rl_samp/useful_files.npz'\n",
    "# np.savez(path,files=regular_files)"
   ]
  },
  {
   "cell_type": "code",
   "execution_count": 6,
   "id": "93946d54",
   "metadata": {
    "scrolled": false
   },
   "outputs": [
    {
     "data": {
      "text/plain": [
       "array([['fs_0029_3T.h5', (384, 144, 1, 30, 28, 1, 1, 1, 2)],\n",
       "       ['fs_0007_1_5T.h5', (384, 144, 1, 18, 23, 1, 1, 1, 1)],\n",
       "       ['fs_0009_1_5T.h5', (384, 144, 1, 18, 22, 1, 1, 1, 1)],\n",
       "       ['fs_0010_1_5T.h5', (384, 144, 1, 18, 22, 1, 1, 1, 1)],\n",
       "       ['fs_0011_1_5T.h5', (384, 144, 1, 18, 22, 1, 1, 1, 1)],\n",
       "       ['fs_0019_3T.h5', (384, 144, 1, 38, 25, 1, 1, 1, 1)],\n",
       "       ['fs_0020_3T.h5', (384, 144, 1, 38, 22, 1, 1, 1, 1)],\n",
       "       ['fs_0021_3T.h5', (384, 144, 1, 38, 22, 1, 1, 1, 1)],\n",
       "       ['fs_0022_3T.h5', (384, 144, 1, 38, 22, 1, 1, 1, 1)],\n",
       "       ['fs_0023_3T.h5', (384, 144, 1, 38, 22, 1, 1, 1, 1)],\n",
       "       ['fs_0024_3T.h5', (384, 144, 1, 38, 22, 1, 1, 1, 1)],\n",
       "       ['fs_0025_3T.h5', (384, 144, 1, 30, 27, 1, 1, 1, 2)],\n",
       "       ['fs_0026_3T.h5', (384, 144, 1, 30, 27, 1, 1, 1, 2)],\n",
       "       ['fs_0027_3T.h5', (384, 144, 1, 30, 28, 1, 1, 1, 2)],\n",
       "       ['fs_0028_3T.h5', (384, 144, 1, 30, 28, 1, 1, 1, 2)],\n",
       "       ['fs_0030_3T.h5', (384, 144, 1, 30, 26, 1, 1, 1, 2)],\n",
       "       ['fs_0031_3T.h5', (384, 144, 1, 30, 27, 1, 1, 1, 2)],\n",
       "       ['fs_0032_3T.h5', (384, 144, 1, 34, 18, 1, 1, 1, 2)],\n",
       "       ['fs_0033_3T.h5', (384, 144, 1, 34, 18, 1, 1, 1, 2)],\n",
       "       ['fs_0034_3T.h5', (384, 144, 1, 34, 18, 1, 1, 1, 2)],\n",
       "       ['fs_0035_3T.h5', (384, 144, 1, 34, 18, 1, 1, 1, 2)],\n",
       "       ['fs_0036_3T.h5', (384, 144, 1, 34, 17, 1, 1, 1, 1)],\n",
       "       ['fs_0037_3T.h5', (384, 144, 1, 34, 22, 1, 1, 1, 2)],\n",
       "       ['fs_0038_3T.h5', (384, 144, 1, 20, 16, 1, 1, 1, 2)],\n",
       "       ['fs_0039_3T.h5', (384, 144, 1, 20, 16, 1, 1, 1, 2)],\n",
       "       ['fs_0040_3T.h5', (384, 144, 1, 20, 16, 1, 1, 1, 2)],\n",
       "       ['fs_0041_3T.h5', (384, 144, 1, 20, 18, 1, 1, 1, 2)],\n",
       "       ['fs_0042_3T.h5', (384, 144, 1, 20, 17, 1, 1, 1, 2)],\n",
       "       ['fs_0043_3T.h5', (384, 144, 1, 20, 18, 1, 1, 1, 2)],\n",
       "       ['fs_0044_3T.h5', (384, 144, 1, 30, 26, 1, 1, 1, 1)],\n",
       "       ['fs_0045_3T.h5', (384, 144, 1, 30, 25, 1, 10, 1, 1)],\n",
       "       ['fs_0046_3T.h5', (384, 144, 1, 30, 25, 1, 1, 1, 1)],\n",
       "       ['fs_0057_1_5T.h5', (384, 144, 1, 28, 25, 1, 12, 1, 1)],\n",
       "       ['fs_0058_1_5T.h5', (384, 144, 1, 24, 22, 1, 1, 1, 1)],\n",
       "       ['fs_0059_1_5T.h5', (384, 144, 1, 24, 22, 1, 1, 1, 1)],\n",
       "       ['fs_0060_1_5T.h5', (384, 144, 1, 28, 21, 1, 12, 1, 1)],\n",
       "       ['fs_0061_1_5T.h5', (384, 144, 1, 16, 22, 1, 1, 1, 1)],\n",
       "       ['fs_0067_1_5T.h5', (384, 144, 1, 24, 22, 1, 1, 1, 1)],\n",
       "       ['fs_0069_1_5T.h5', (384, 144, 1, 24, 25, 1, 12, 1, 1)],\n",
       "       ['fs_0070_1_5T.h5', (384, 144, 1, 20, 25, 1, 1, 1, 1)],\n",
       "       ['fs_0072_1_5T.h5', (384, 144, 1, 16, 20, 1, 1, 1, 1)],\n",
       "       ['fs_0073_1_5T.h5', (384, 144, 1, 20, 20, 1, 1, 1, 1)],\n",
       "       ['fs_0074_1_5T.h5', (384, 144, 1, 24, 19, 1, 12, 1, 1)]],\n",
       "      dtype=object)"
      ]
     },
     "execution_count": 6,
     "metadata": {},
     "output_type": "execute_result"
    }
   ],
   "source": [
    "data = np.load(path,allow_pickle=True)\n",
    "data['files']"
   ]
  },
  {
   "cell_type": "code",
   "execution_count": 7,
   "id": "acca70fa",
   "metadata": {},
   "outputs": [
    {
     "name": "stdout",
     "output_type": "stream",
     "text": [
      "Imaging acquisition starts acq  32\n"
     ]
    }
   ],
   "source": [
    "file = 'fs_0074_1_5T.h5'\n",
    "kData,param = read.read_ocmr(datapath+file)"
   ]
  },
  {
   "cell_type": "code",
   "execution_count": 8,
   "id": "774b8f5b",
   "metadata": {},
   "outputs": [
    {
     "name": "stdout",
     "output_type": "stream",
     "text": [
      "Dimension of kData:  (384, 144, 1, 24, 19, 1, 12, 1, 1)\n",
      "SLC:  12\n",
      "Dimension of Image (with ReadOut ovesampling):  (384, 144, 1, 19, 1, 12, 1)\n",
      "Dimension of Image (without ReadOout ovesampling):  (192, 144, 1, 19, 1, 12, 1)\n"
     ]
    }
   ],
   "source": [
    "# Image reconstruction (SoS)\n",
    "dim_kData = kData.shape\n",
    "print('Dimension of kData: ', dim_kData)\n",
    "CH  = dim_kData[3]\n",
    "SLC = dim_kData[6]\n",
    "print('SLC: ', SLC)\n",
    "kData_tmp = np.mean(kData, axis = 8); # average the k-space if average > 1, avg dimension is reduced\n",
    "\n",
    "im_coil = transform.transform_kspace_to_image(kData_tmp, [0,1]); # IFFT (2D image)\n",
    "im_sos  = np.sqrt(np.sum(np.abs(im_coil) ** 2, 3)) # Sum of Square, coil dimension is reduced\n",
    "print('Dimension of Image (with ReadOut ovesampling): ', im_sos.shape)\n",
    "RO    = im_sos.shape[0]\n",
    "\n",
    "# breakpoint()\n",
    "image = im_sos[math.floor(RO/4):math.floor(RO/4*3),:,:] # Remove RO oversampling\n",
    "print('Dimension of Image (without ReadOout ovesampling): ', image.shape)"
   ]
  },
  {
   "cell_type": "code",
   "execution_count": null,
   "id": "d8201c7d",
   "metadata": {},
   "outputs": [],
   "source": [
    "print('image sos shape',im_sos.shape)\n",
    "im_sos_slice = im_sos[:,:,0,0,0,0,0]"
   ]
  },
  {
   "cell_type": "code",
   "execution_count": null,
   "id": "453a1d8b",
   "metadata": {},
   "outputs": [],
   "source": [
    "kslice = kData_tmp[:,:,0,0,0,0,0,0]"
   ]
  },
  {
   "cell_type": "code",
   "execution_count": null,
   "id": "314d0fa0",
   "metadata": {},
   "outputs": [],
   "source": [
    "im_sos_slice[0,:10]"
   ]
  },
  {
   "cell_type": "code",
   "execution_count": null,
   "id": "d9a5b852",
   "metadata": {},
   "outputs": [],
   "source": [
    "# coil_ind = 19\n",
    "# print(im_coil.shape)\n",
    "# im_slice = im_coil[:,:,0,coil_ind,0,0,0,0]\n",
    "\n",
    "plt.figure()\n",
    "plt.imshow(image[:,:,0,0,0,0,0],origin='lower')\n",
    "# plt.imshow(np.abs(im_slice),origin='lower')\n",
    "# plt.imshow(np.log(np.abs(kslice)),origin='lower')\n",
    "plt.colorbar()\n",
    "plt.show()"
   ]
  },
  {
   "cell_type": "code",
   "execution_count": 10,
   "id": "8d2180c6",
   "metadata": {},
   "outputs": [
    {
     "data": {
      "text/plain": [
       "19"
      ]
     },
     "execution_count": 10,
     "metadata": {},
     "output_type": "execute_result"
    }
   ],
   "source": [
    "image_slc.shape[2]"
   ]
  },
  {
   "cell_type": "code",
   "execution_count": 14,
   "id": "a3f29500",
   "metadata": {},
   "outputs": [
    {
     "data": {
      "image/png": "[encoded data removed]",
      "text/plain": [
       "<Figure size 432x288 with 2 Axes>"
      ]
     },
     "metadata": {
      "needs_background": "light"
     },
     "output_type": "display_data"
    }
   ],
   "source": [
    "# Show the reconstructed cine image\n",
    "from IPython.display import clear_output\n",
    "import time\n",
    "\n",
    "slc_idx = 2 # math.floor(SLC/2)\n",
    "print(slc_idx)\n",
    "image_slc = np.squeeze(image[:,:,:,:,:,slc_idx,:])/image[:,:,:,:,:,slc_idx,:].max()\n",
    "print(image_slc.shape)\n",
    "# image_slc = np.squeeze(image[:,:,:,:,:,:,slc_idx])\n",
    "for rep in range(5): # repeate the movie for 5 times\n",
    "    for frame in range(image_slc.shape[2]):\n",
    "        clear_output(wait=True)\n",
    "        plt.imshow(image_slc[:,:,frame], vmin=0, vmax=0.6*np.amax(image_slc), cmap = 'gray',origin='lower')\n",
    "        plt.axis('off')\n",
    "        plt.colorbar()\n",
    "        plt.show() \n",
    "        time.sleep(0.03)"
   ]
  },
  {
   "cell_type": "code",
   "execution_count": null,
   "id": "cc5341bc",
   "metadata": {},
   "outputs": [],
   "source": [
    "savepath = '/mnt/shared_a/OCMR/OCMR_fully_sampled_images/'\n",
    "for fileind in range(len(regular_files)):\n",
    "    filename    = regular_files[fileind][0]\n",
    "    kData,param = read.read_ocmr(datapath+file)\n",
    "    kData_tmp   = np.mean(kData, axis = 8); # average the k-space if average > 1\n",
    "\n",
    "    im_coil = transform.transform_kspace_to_image(kData_tmp, [0,1]); # IFFT (2D image)\n",
    "    im_sos  = np.sqrt(np.sum(np.abs(im_coil) ** 2, 3)) # Sum of Square\n",
    "    print('Dimension of Image (with ReadOut ovesampling): ', im_sos.shape)\n",
    "    RO    = im_sos.shape[0]\n",
    "    image = im_sos[math.floor(RO/4):math.floor(RO/4*3),:,:] # Remove RO oversampling\n",
    "    print('Dimension of Image (without ReadOout ovesampling): ', image.shape)\n",
    "    \n",
    "    for sliceind in range(image.shape[5]):\n",
    "        image[:,:,:,:,:,sliceind,:] /= image[:,:,:,:,:,sliceind,:].max()\n",
    "    \n",
    "    torch.save(torch.tensor(image) , savepath + filename[:-3] + '.pt')\n",
    "    print(f'file {savepath + filename} is successfully saved')"
   ]
  },
  {
   "cell_type": "code",
   "execution_count": null,
   "id": "d3eaea9f",
   "metadata": {},
   "outputs": [],
   "source": [
    "datapath = '/mnt/shared_a/OCMR/OCMR_fully_sampled_images/'\n",
    "file = 'fs_0074_1_5T.pt'\n",
    "data = torch.load(datapath+file)"
   ]
  },
  {
   "cell_type": "code",
   "execution_count": null,
   "id": "abe30831",
   "metadata": {},
   "outputs": [],
   "source": [
    "slc_idx = 6 # math.floor(SLC/2)\n",
    "print(slc_idx)\n",
    "# image_slc = np.squeeze(image[:,:,:,:,:,slc_idx,:])/image[:,:,:,:,:,slc_idx,:].max()\n",
    "# print(image_slc.shape)\n",
    "# image_slc = np.squeeze(image[:,:,:,:,:,:,slc_idx])\n",
    "for rep in range(3): # repeat the movie for 5 times\n",
    "    for frame in range(data.shape[3]):\n",
    "        clear_output(wait=True)\n",
    "        plt.imshow(data[:,:,0,frame,0,slc_idx,:], vmin=0, vmax=data.max(), cmap = 'gray'); plt.axis('off');\n",
    "        plt.colorbar()\n",
    "        plt.show() \n",
    "        time.sleep(0.03)"
   ]
  }
 ],
 "metadata": {
  "kernelspec": {
   "display_name": "Python 3 (ipykernel)",
   "language": "python",
   "name": "python3"
  },
  "language_info": {
   "codemirror_mode": {
    "name": "ipython",
    "version": 3
   },
   "file_extension": ".py",
   "mimetype": "text/x-python",
   "name": "python",
   "nbconvert_exporter": "python",
   "pygments_lexer": "ipython3",
   "version": "3.9.12"
  }
 },
 "nbformat": 4,
 "nbformat_minor": 5
}
