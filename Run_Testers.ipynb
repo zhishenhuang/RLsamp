{
 "cells": [
  {
   "cell_type": "code",
   "execution_count": 1,
   "id": "166eac3d",
   "metadata": {},
   "outputs": [
    {
     "data": {
      "text/html": [
       "<style>\n",
       ".container{width:85%}\n",
       "<style>\n"
      ],
      "text/plain": [
       "<IPython.core.display.HTML object>"
      ]
     },
     "metadata": {},
     "output_type": "display_data"
    }
   ],
   "source": [
    "%%html\n",
    "<style>\n",
    ".container{width:85%}\n",
    "<style>"
   ]
  },
  {
   "cell_type": "code",
   "execution_count": 2,
   "id": "6630bed1",
   "metadata": {},
   "outputs": [],
   "source": [
    "import RL_samp\n",
    "from RL_samp.header import *\n",
    "from RL_samp.utils import *\n",
    "from RL_samp.replay_buffer import *\n",
    "from RL_samp.models import poly_net, val_net\n",
    "from RL_samp.reconstructors import unet_solver\n",
    "from RL_samp.policies import DQN\n",
    "from RL_samp.trainers import DeepQL_trainer #, AC1_ET_trainer\n",
    "\n",
    "from importlib import reload\n",
    "import matplotlib.pyplot as plt\n",
    "from matplotlib import colors\n",
    "import torch.nn.functional as Func\n",
    "\n",
    "def rolling_mean(x,window):\n",
    "    window = int(window)\n",
    "\n",
    "    # Stephen: for large data, the above gets a bit slow, so we can do this:\n",
    "#   y = np.convolve(x, np.ones(window)/window, mode='valid')\n",
    "#   return y\n",
    "    # or https://stackoverflow.com/a/27681394\n",
    "    cumsum = np.cumsum(np.insert(x, 0, 0))\n",
    "    return (cumsum[window:] - cumsum[:-window]) / float(window)"
   ]
  },
  {
   "cell_type": "markdown",
   "id": "94b30e32",
   "metadata": {},
   "source": [
    "# Run Tester : DDQN"
   ]
  },
  {
   "cell_type": "code",
   "execution_count": 3,
   "id": "2c156ba7",
   "metadata": {},
   "outputs": [],
   "source": [
    "hist_dir = '/home/ec2-user/SageMaker/RLsamp/output/DQN_doubleQ_True_ba8_bu16_hist_2023-04-10_BA8BU16_LF_0G_600Epochs.pt'\n",
    "hist = torch.load(hist_dir)"
   ]
  },
  {
   "cell_type": "code",
   "execution_count": 4,
   "id": "acaac4d7",
   "metadata": {},
   "outputs": [],
   "source": [
    "from RL_samp.trainers import DeepQL_tester\n",
    "from unet.unet_model_fbr import Unet"
   ]
  },
  {
   "cell_type": "code",
   "execution_count": 5,
   "id": "8a23a9b7",
   "metadata": {},
   "outputs": [],
   "source": [
    "# dataloader params\n",
    "t_backtrack = 8\n",
    "datapath = '/home/ec2-user/SageMaker/data/OCMR_fully_sampled_images/'\n",
    "\n",
    "# unet params\n",
    "unet_rand_dir    = '/home/ec2-user/SageMaker/RLsamp/output/recon_models/unet_lowfreq_rand_1.0_fbr_2_chans_64base8_budget16.pt'\n",
    "unet_lowfreq_dir = '/home/ec2-user/SageMaker/RLsamp/output/recon_models/unet_lowfreq_rand_0.0_fbr_2_chans_64base8_budget16.pt'\n",
    "in_chans = 2\n",
    "chans = 64\n",
    "num_pool_layers = 6\n",
    "\n",
    "# policy params\n",
    "discount = .5\n",
    "\n",
    "# tester params\n",
    "fulldim = 144\n",
    "base    = 8\n",
    "budget  = 16\n",
    "device  = torch.device(\"cuda:0\")\n",
    "save_dir = '/home/ec2-user/SageMaker/RLsamp/output/'\n",
    "\n",
    "infostr = 'DDQN_test'"
   ]
  },
  {
   "cell_type": "code",
   "execution_count": 6,
   "id": "92af96ad",
   "metadata": {
    "scrolled": true
   },
   "outputs": [
    {
     "name": "stdout",
     "output_type": "stream",
     "text": [
      "current file: fs_0021_3T.pt\n",
      "Dimension of the current data file: t_ubd 22, slice_ubd 1, rep_ubd 1\n"
     ]
    }
   ],
   "source": [
    "ncfiles = np.load('/home/ec2-user/SageMaker/RLsamp/test_files.npz')['files']\n",
    "loader  = ocmrLoader(ncfiles,batch_size=1,datapath=datapath,t_backtrack=t_backtrack,train_mode=False)\n",
    "\n",
    "model   = poly_net(samp_dim=fulldim,in_chans=t_backtrack)\n",
    "model.load_state_dict(hist['dqn_weights'])\n",
    "\n",
    "unet_rand = Unet(in_chans=in_chans,out_chans=1,chans=chans,\n",
    "            num_pool_layers=num_pool_layers,drop_prob=0).to(device)\n",
    "rand_checkpoint = torch.load(unet_rand_dir)\n",
    "unet_rand.load_state_dict(rand_checkpoint['model_state_dict'])\n",
    "\n",
    "unet_lowfreq = Unet(in_chans=in_chans,out_chans=1,chans=chans,\n",
    "            num_pool_layers=num_pool_layers,drop_prob=0).to(device)\n",
    "lowfreq_checkpoint = torch.load(unet_lowfreq_dir)\n",
    "unet_lowfreq.load_state_dict(lowfreq_checkpoint['model_state_dict'])\n",
    "\n",
    "policy = DQN(model,[],device=device,gamma=discount,lr=0,\n",
    "                  double_q_mode=True,unet=unet_lowfreq,mag_weight=5,maxGuideEp=0)\n",
    "\n",
    "\n",
    "tester = DeepQL_tester(loader,policy,\n",
    "                         eps=1e-3,\n",
    "                         fulldim=fulldim,\n",
    "                         base=base,\n",
    "                         budget=budget,\n",
    "                         save_dir=save_dir,\n",
    "                         compare=True,\n",
    "                         rand_eval_unet=unet_rand,\n",
    "                         lowfreq_eval_unet=unet_lowfreq,\n",
    "                         infostr=None,\n",
    "                         device=device\n",
    "                         )"
   ]
  },
  {
   "cell_type": "code",
   "execution_count": 7,
   "id": "2b9157d5",
   "metadata": {
    "scrolled": true
   },
   "outputs": [
    {
     "name": "stdout",
     "output_type": "stream",
     "text": [
      "file [1/10] rep [1/1] slice [1/1]\n",
      "current file: fs_0058_1_5T.pt\n",
      "Dimension of the current data file: t_ubd 22, slice_ubd 1, rep_ubd 1\n",
      "file [2/10] rep [1/1] slice [1/1]\n",
      "current file: fs_0038_3T.pt\n",
      "Dimension of the current data file: t_ubd 16, slice_ubd 1, rep_ubd 1\n",
      "file [3/10] rep [1/1] slice [1/1]\n",
      "current file: fs_0041_3T.pt\n",
      "Dimension of the current data file: t_ubd 18, slice_ubd 1, rep_ubd 1\n",
      "file [4/10] rep [1/1] slice [1/1]\n",
      "current file: fs_0042_3T.pt\n",
      "Dimension of the current data file: t_ubd 17, slice_ubd 1, rep_ubd 1\n",
      "file [5/10] rep [1/1] slice [1/1]\n",
      "current file: fs_0035_3T.pt\n",
      "Dimension of the current data file: t_ubd 18, slice_ubd 1, rep_ubd 1\n",
      "file [6/10] rep [1/1] slice [1/1]\n",
      "current file: fs_0023_3T.pt\n",
      "Dimension of the current data file: t_ubd 22, slice_ubd 1, rep_ubd 1\n",
      "file [7/10] rep [1/1] slice [1/1]\n",
      "current file: fs_0025_3T.pt\n",
      "Dimension of the current data file: t_ubd 27, slice_ubd 1, rep_ubd 1\n",
      "file [8/10] rep [1/1] slice [1/1]\n",
      "current file: fs_0074_1_5T.pt\n",
      "Dimension of the current data file: t_ubd 19, slice_ubd 12, rep_ubd 1\n",
      "file [9/10] rep [1/1] slice [1/12]\n",
      "current file: fs_0060_1_5T.pt\n",
      "Dimension of the current data file: t_ubd 21, slice_ubd 12, rep_ubd 1\n",
      "file [0/10] rep [1/1] slice [1/12]\n",
      "current file: fs_0021_3T.pt\n",
      "Dimension of the current data file: t_ubd 22, slice_ubd 1, rep_ubd 1\n",
      " testing history saved as /home/ec2-user/SageMaker/RLsamp/output/EVAL_DQN_doubleQ_True_ba8_bu16_2023-05-29.pt\n",
      " ~~ Testing Evaluation is completed. ~~\n"
     ]
    }
   ],
   "source": [
    "tester.test()"
   ]
  },
  {
   "cell_type": "code",
   "execution_count": 8,
   "id": "1e6b642b",
   "metadata": {},
   "outputs": [],
   "source": [
    "# eval_hist_path = '/home/ec2-user/SageMaker/RLsamp/output/EVAL_DQN_doubleQ_True_ba8_bu16_2023-05-08.pt'\n",
    "eval_hist_path = '/home/ec2-user/SageMaker/RLsamp/output/EVAL_DQN_doubleQ_True_ba8_bu16_2023-05-29.pt'\n",
    "eval_hist = torch.load(eval_hist_path)"
   ]
  },
  {
   "cell_type": "code",
   "execution_count": 9,
   "id": "56753770",
   "metadata": {},
   "outputs": [
    {
     "name": "stdout",
     "output_type": "stream",
     "text": [
      "DDQN rmse test:  0.3948401342732642\n",
      "Rand. rmse test    :  0.5666931271386474\n",
      "LowFreq. rmse test :  0.3948401342732642\n",
      "\n",
      "\n",
      "DDQN ssim test:  0.7522064061281856\n",
      "Rand. ssim test    :  0.5785664886946684\n",
      "LowFreq. ssim test :  0.7522064061281856\n"
     ]
    }
   ],
   "source": [
    "print('DDQN rmse test: ', np.mean(eval_hist['testing_record']['rmse']))\n",
    "print('Rand. rmse test    : ', np.mean(eval_hist['testing_record']['rmse_rand']))\n",
    "print('LowFreq. rmse test : ', np.mean(eval_hist['testing_record']['rmse_lowfreq']))\n",
    "print('\\n')\n",
    "print('DDQN ssim test: ', np.mean(eval_hist['testing_record']['ssim']))\n",
    "print('Rand. ssim test    : ', np.mean(eval_hist['testing_record']['ssim_rand']))\n",
    "print('LowFreq. ssim test : ', np.mean(eval_hist['testing_record']['ssim_lowfreq']))"
   ]
  },
  {
   "cell_type": "markdown",
   "id": "b72911cb",
   "metadata": {},
   "source": [
    "# Run Tester : REINFORCE"
   ]
  },
  {
   "cell_type": "code",
   "execution_count": 3,
   "id": "f7f4ba7f",
   "metadata": {},
   "outputs": [],
   "source": [
    "from RL_samp.REINFORCE import REINFORCE_tester\n",
    "from unet.unet_model_fbr import Unet"
   ]
  },
  {
   "cell_type": "code",
   "execution_count": 31,
   "id": "94f4d965",
   "metadata": {},
   "outputs": [],
   "source": [
    "# hist_dir = '/home/ec2-user/SageMaker/RLsamp/output/REINFORCE_hist_2023-04-24_base8_budget16_BA8_BU16_E1000_G0_H1e-2_wTrue_magweg5_rwd1.pt'\n",
    "hist_dir = '/home/ec2-user/SageMaker/RLsamp/output/REINFORCE_hist_2023-04-25_base8_budget16_BA8_BU16_E1000_G300_H1e-2_wTrue_magweg5_rwd1.pt'\n",
    "hist = torch.load(hist_dir)"
   ]
  },
  {
   "cell_type": "code",
   "execution_count": 32,
   "id": "daf76d18",
   "metadata": {},
   "outputs": [],
   "source": [
    "# dataloader params\n",
    "t_backtrack = 8\n",
    "datapath = '/home/ec2-user/SageMaker/data/OCMR_fully_sampled_images/'\n",
    "\n",
    "# unet params\n",
    "unet_rand_dir = '/home/ec2-user/SageMaker/RLsamp/output/recon_models/unet_lowfreq_rand_1.0_fbr_2_chans_64base8_budget16.pt'\n",
    "unet_lowfreq_dir = '/home/ec2-user/SageMaker/RLsamp/output/recon_models/unet_lowfreq_rand_0.0_fbr_2_chans_64base8_budget16.pt'\n",
    "unet_prob_dir = '/home/ec2-user/SageMaker/RLsamp/output/recon_models/unet_prob_rand_0.0_fbr_2_chans_64base8_budget16.pt'\n",
    "\n",
    "probdistr_dir = '/home/ec2-user/SageMaker/RLsamp/output/probdist_train_base_8.pt'\n",
    "\n",
    "in_chans = 2\n",
    "chans = 64\n",
    "num_pool_layers = 6\n",
    "\n",
    "# policy params\n",
    "discount = .5\n",
    "\n",
    "# tester params\n",
    "fulldim = 144\n",
    "base    = 8\n",
    "budget  = 16\n",
    "device  = torch.device(\"cuda:0\")\n",
    "save_dir = '/home/ec2-user/SageMaker/RLsamp/output/'\n",
    "\n",
    "infostr = 'REINFORCE_test'"
   ]
  },
  {
   "cell_type": "code",
   "execution_count": 33,
   "id": "6cf72963",
   "metadata": {},
   "outputs": [],
   "source": [
    "ncfiles = np.load('/home/ec2-user/SageMaker/RLsamp/test_files.npz')['files']\n",
    "loader  = ocmrLoader(ncfiles,batch_size=1,datapath=datapath,t_backtrack=t_backtrack,train_mode=False)\n",
    "\n",
    "model   = poly_net(samp_dim=fulldim,softmax=True,in_chans=t_backtrack)\n",
    "model.load_state_dict(hist['polynet_weights'])\n",
    "\n",
    "unet_rand = Unet(in_chans=in_chans,out_chans=1,chans=chans,\n",
    "            num_pool_layers=num_pool_layers,drop_prob=0).to(device)\n",
    "rand_checkpoint = torch.load(unet_rand_dir)\n",
    "unet_rand.load_state_dict(rand_checkpoint['model_state_dict'])\n",
    "\n",
    "unet_lowfreq = Unet(in_chans=in_chans,out_chans=1,chans=chans,\n",
    "            num_pool_layers=num_pool_layers,drop_prob=0).to(device)\n",
    "lowfreq_checkpoint = torch.load(unet_lowfreq_dir)\n",
    "unet_lowfreq.load_state_dict(lowfreq_checkpoint['model_state_dict'])\n",
    "\n",
    "unet_lowfreq = Unet(in_chans=in_chans,out_chans=1,chans=chans,\n",
    "            num_pool_layers=num_pool_layers,drop_prob=0).to(device)\n",
    "lowfreq_checkpoint = torch.load(unet_lowfreq_dir)\n",
    "unet_lowfreq.load_state_dict(lowfreq_checkpoint['model_state_dict'])\n",
    "\n",
    "unet_prob = Unet(in_chans=in_chans,out_chans=1,chans=chans,\n",
    "            num_pool_layers=num_pool_layers,drop_prob=0).to(device)\n",
    "prob_checkpoint = torch.load(unet_prob_dir)\n",
    "unet_prob.load_state_dict(lowfreq_checkpoint['model_state_dict'])\n",
    "\n",
    "probdistr = torch.load(probdistr_dir)[f'probability_density_base_{base}']"
   ]
  },
  {
   "cell_type": "code",
   "execution_count": 34,
   "id": "eb5fb9cc",
   "metadata": {},
   "outputs": [
    {
     "name": "stdout",
     "output_type": "stream",
     "text": [
      "current file: fs_0060_1_5T.pt\n",
      "Dimension of the current data file: t_ubd 21, slice_ubd 12, rep_ubd 1\n"
     ]
    }
   ],
   "source": [
    "tester = REINFORCE_tester(loader,model,\n",
    "                         fulldim=fulldim,\n",
    "                         base=base,\n",
    "                         budget=budget,\n",
    "                         save_dir=save_dir,\n",
    "                         unet=unet_lowfreq,\n",
    "                         rand_eval_unet=unet_rand,\n",
    "                         lowfreq_eval_unet=unet_lowfreq,\n",
    "                         prob_eval_unet=unet_prob,\n",
    "                         probdistr=probdistr,\n",
    "                         infostr=infostr,\n",
    "                         device=device\n",
    "                         )"
   ]
  },
  {
   "cell_type": "code",
   "execution_count": 35,
   "id": "f26470fd",
   "metadata": {
    "scrolled": false
   },
   "outputs": [
    {
     "name": "stdout",
     "output_type": "stream",
     "text": [
      "file [1/10] rep [1/1] slice [1/12]\n",
      "current file: fs_0041_3T.pt\n",
      "Dimension of the current data file: t_ubd 18, slice_ubd 1, rep_ubd 1\n",
      "file [2/10] rep [1/1] slice [1/1]\n",
      "current file: fs_0042_3T.pt\n",
      "Dimension of the current data file: t_ubd 17, slice_ubd 1, rep_ubd 1\n",
      "file [3/10] rep [1/1] slice [1/1]\n",
      "current file: fs_0058_1_5T.pt\n",
      "Dimension of the current data file: t_ubd 22, slice_ubd 1, rep_ubd 1\n",
      "file [4/10] rep [1/1] slice [1/1]\n",
      "current file: fs_0038_3T.pt\n",
      "Dimension of the current data file: t_ubd 16, slice_ubd 1, rep_ubd 1\n",
      "file [5/10] rep [1/1] slice [1/1]\n",
      "current file: fs_0074_1_5T.pt\n",
      "Dimension of the current data file: t_ubd 19, slice_ubd 12, rep_ubd 1\n",
      "file [6/10] rep [1/1] slice [1/12]\n",
      "current file: fs_0035_3T.pt\n",
      "Dimension of the current data file: t_ubd 18, slice_ubd 1, rep_ubd 1\n",
      "file [7/10] rep [1/1] slice [1/1]\n",
      "current file: fs_0025_3T.pt\n",
      "Dimension of the current data file: t_ubd 27, slice_ubd 1, rep_ubd 1\n",
      "file [8/10] rep [1/1] slice [1/1]\n",
      "current file: fs_0023_3T.pt\n",
      "Dimension of the current data file: t_ubd 22, slice_ubd 1, rep_ubd 1\n",
      "file [9/10] rep [1/1] slice [1/1]\n",
      "current file: fs_0021_3T.pt\n",
      "Dimension of the current data file: t_ubd 22, slice_ubd 1, rep_ubd 1\n",
      "file [0/10] rep [1/1] slice [1/1]\n",
      "current file: fs_0060_1_5T.pt\n",
      "Dimension of the current data file: t_ubd 21, slice_ubd 12, rep_ubd 1\n",
      "~~ hist saved as Test_REINFORCE_hist_2023-05-29_base8_budget16_REINFORCE_test_magweg1.0_rwd1.pt at directory /home/ec2-user/SageMaker/RLsamp/output/~~\n"
     ]
    }
   ],
   "source": [
    "tester.run()"
   ]
  },
  {
   "cell_type": "code",
   "execution_count": 36,
   "id": "cfa94cdb",
   "metadata": {},
   "outputs": [],
   "source": [
    "eval_hist_path = '/home/ec2-user/SageMaker/RLsamp/output/Test_REINFORCE_hist_2023-05-29_base8_budget16_REINFORCE_test_magweg1.0_rwd1.pt'\n",
    "eval_hist = torch.load(eval_hist_path)"
   ]
  },
  {
   "cell_type": "code",
   "execution_count": 37,
   "id": "b37321df",
   "metadata": {},
   "outputs": [
    {
     "name": "stdout",
     "output_type": "stream",
     "text": [
      "REINFORCE rmse test :  0.39431259496780435\n",
      "Rand. rmse test     :  0.5638175830914441\n",
      "LowFreq. rmse test  :  0.3948401342732642\n",
      "prob. rmse test     :  0.6159621770170558\n",
      "\n",
      "\n",
      "REINFORCE ssim test :  0.7520666751388545\n",
      "Rand. ssim test     :  0.5793199391448487\n",
      "LowFreq. ssim test  :  0.7522064061281856\n",
      "Prob. ssim test     :  0.4802507269676366\n"
     ]
    }
   ],
   "source": [
    "print('REINFORCE rmse test : ', np.mean(eval_hist['testing_record']['rmse']))\n",
    "print('Rand. rmse test     : ', np.mean(eval_hist['testing_record']['rmse_rand']))\n",
    "print('LowFreq. rmse test  : ', np.mean(eval_hist['testing_record']['rmse_lowfreq']))\n",
    "print('prob. rmse test     : ', np.mean(eval_hist['testing_record']['rmse_prob']))\n",
    "print('\\n')\n",
    "print('REINFORCE ssim test : ', np.mean(eval_hist['testing_record']['ssim']))\n",
    "print('Rand. ssim test     : ', np.mean(eval_hist['testing_record']['ssim_rand']))\n",
    "print('LowFreq. ssim test  : ', np.mean(eval_hist['testing_record']['ssim_lowfreq']))\n",
    "print('Prob. ssim test     : ', np.mean(eval_hist['testing_record']['ssim_prob']))"
   ]
  },
  {
   "cell_type": "code",
   "execution_count": null,
   "id": "130c5bfd",
   "metadata": {},
   "outputs": [],
   "source": []
  }
 ],
 "metadata": {
  "kernelspec": {
   "display_name": "conda_pytorch_p39",
   "language": "python",
   "name": "conda_pytorch_p39"
  },
  "language_info": {
   "codemirror_mode": {
    "name": "ipython",
    "version": 3
   },
   "file_extension": ".py",
   "mimetype": "text/x-python",
   "name": "python",
   "nbconvert_exporter": "python",
   "pygments_lexer": "ipython3",
   "version": "3.9.15"
  }
 },
 "nbformat": 4,
 "nbformat_minor": 5
}
